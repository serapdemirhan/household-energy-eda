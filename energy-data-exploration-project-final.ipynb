{
 "cells": [
  {
   "cell_type": "markdown",
   "metadata": {},
   "source": [
    "# <img src=\"./data/energy-dynamic.png\" alt=\"Statistics Icon\" width=\"30\"/> **Exploratory Data Analysis (EDA) of Household Energy Dynamics: Unveiling Energy Patterns and Solutions** <img src=\"./data/books.png\" alt=\"Book Icon\" width=\"30\"/>"
   ]
  },
  {
   "cell_type": "markdown",
   "metadata": {},
   "source": [
    "As the *<span style=\"color:#4285f4\">demand</span>* for energy-efficient solutions rises, comprehending *<span style=\"color:#4285f4\">the factors influencing energy consumption patterns across various building types</span>* is essential for stakeholders and clients in the energy management sector. In light of this, I embark on an *<span style=\"color:#4285f4\">Exploratory Data Analysis (EDA)</span>*  journey to uncover insights within the provided *<span style=\"color:#4285f4\">household energy consumption dataset</span>*."
   ]
  },
  {
   "cell_type": "markdown",
   "metadata": {},
   "source": [
    "# <img src=\"./data/target.png\" alt=\"Objective Icon\" width=\"30\"/> **Objective**"
   ]
  },
  {
   "cell_type": "markdown",
   "metadata": {},
   "source": [
    "The primary objective of this Exploratory Data Analysis (EDA) is to *<span style=\"color:#4285f4\">unveil insights</span>* into energy consumption patterns across various building types. \n",
    "\n",
    "By delving into the dataset, the aim is not only to *<span style=\"color:#4285f4\">facilitate strategic decision-making</span>* for energy management companies but also to *<span style=\"color:#4285f4\">deepen the comprehension of the multifaceted elements</span>* that intricately shape energy usage dynamics in different buildings.\n",
    "\n",
    "Through comprehensive dataset analysis, actionable recommendations will be formulated to;\n",
    "\n",
    "- Optimize energy usage, \n",
    "- Reduce costs, and \n",
    "- Promote sustainable practices\n"
   ]
  },
  {
   "cell_type": "markdown",
   "metadata": {},
   "source": [
    "# <img src=\"./data/file.png\" alt=\"Overview Icon\" width=\"30\"/> **Dataset Overview and Data Attribution**"
   ]
  },
  {
   "cell_type": "markdown",
   "metadata": {},
   "source": [
    "The dataset contains multiple fields providing information on energy consumption, generation, and related parameters. It includes timestamp in *<span style=\"color:#4285f4\">Coordinated Universal Time (UTC)</span>* along with various *<span style=\"color:#4285f4\">energy consumption and generation metrics for different types of buildings and appliances</span>*.\n",
    "\n",
    "The energy consumption dataset used in this analysis was obtained from [Open Power System Data](https://data.open-power-system-data.org/household_data/), specifically the \"Household Data\" package version 2020-04-15. The dataset contains detailed household load and solar generation data in minutely to hourly resolution, sourced from 11 households in southern Germany. The data is licensed under [Creative Commons Attribution-International](https://creativecommons.org/licenses/by/4.0/).\n",
    "\n",
    "Attribution in Chicago author-date style should be given as follows: \n",
    "\n",
    "\"Open Power System Data. 2020. Data Package Household Data. Version 2020-04-15. [https://data.open-power-system-data.org/household_data/2020-04-15/](https://data.open-power-system-data.org/household_data/2020-04-15/). (Primary data from various sources, for a complete list see URL).\"\n",
    "\n",
    "Sources: [Open Power System Data](https://data.open-power-system-data.org/household_data/), [Creative Commons Attribution-International](https://creativecommons.org/licenses/by/4.0/)"
   ]
  },
  {
   "cell_type": "markdown",
   "metadata": {},
   "source": [
    "| **Field Name**         | **Description**                                              | **Metrics**                                                                                                      |\n",
    "|-----------------------|----------------------------------------------------------|------------------------------------------------------------------------------------------------------------------|\n",
    "| Time         | Start of timeperiod in Coordinated Universal Time        | utc_timestamp |\n",
    "| Interpolated cells        | Marker to indicate which columns are missing data in source data and has been interpolated | interpolated |\n",
    "| Industrial Building 1 | Energy metrics for an industrial warehouse building     | DE_KN_industrial1_grid_import, DE_KN_industrial1_pv_1, DE_KN_industrial1_pv_2                                   |\n",
    "| Industrial Building 2 | Energy metrics for an industrial building in the crafts sector | DE_KN_industrial2_grid_import, DE_KN_industrial2_pv, DE_KN_industrial2_storage_charge, DE_KN_industrial2_storage_decharge |\n",
    "| Industrial Building 3 | Energy metrics for an industrial building part of a research institute | DE_KN_industrial3_area_offices, DE_KN_industrial3_area_room_1, DE_KN_industrial3_area_room_2                     |\n",
    "| Public Building 1     | Energy metrics for a school building located in the urban area | DE_KN_public1_grid_import                                                                                       |\n",
    "| Public Building 2     | Energy metrics for another school building located in the urban area | DE_KN_public2_grid_import                                                                                       |\n",
    "| Residential Building 1| Energy metrics for a residential building located in the suburban area | DE_KN_residential1_grid_import, DE_KN_residential1_pv                                                           |\n",
    "| Residential Building 2| Energy metrics for another residential building located in the suburban area | DE_KN_residential2_grid_import                                                         |\n",
    "| Residential Building 3| Energy metrics for a residential building located in the urban area | DE_KN_residential3_circulation_pump, DE_KN_residential3_dishwasher, DE_KN_residential3_freezer, DE_KN_residential3_grid_export |\n",
    "| Residential Building 4| Energy metrics for another residential building located in the urban area | DE_KN_residential4_dishwasher, DE_KN_residential4_ev, DE_KN_residential4_freezer, DE_KN_residential4_grid_export |\n",
    "| Residential Building 5| Energy metrics for a residential apartment located in the urban area | DE_KN_residential5_dishwasher, DE_KN_residential5_grid_import, DE_KN_residential5_refrigerator                   |\n",
    "| Residential Building 6| Energy metrics for another residential building located in the urban area | DE_KN_residential6_circulation_pump, DE_KN_residential6_dishwasher, DE_KN_residential6_freezer, DE_KN_residential6_grid_export |"
   ]
  },
  {
   "cell_type": "markdown",
   "metadata": {},
   "source": [
    "# <img src=\"./data/iteration.png\" alt=\"Methodology Icon\" width=\"30\"/> **Methodology**"
   ]
  },
  {
   "cell_type": "markdown",
   "metadata": {},
   "source": [
    "![Methodology](./data/methodology12.png)"
   ]
  },
  {
   "cell_type": "markdown",
   "metadata": {},
   "source": [
    "# <img src=\"./data/question-mark.png\" alt=\"Questionmark Icon\" width=\"30\"/> **Decoding Household Energy Dynamics: Probing Questions for Deeper Insights**"
   ]
  },
  {
   "cell_type": "markdown",
   "metadata": {},
   "source": [
    "1. **What are the <span style=\"color:#4285f4\">*overall trends in energy consumption*</span> across different types of buildings (residential, industrial, public)?**\n",
    "\n",
    "2. **How does energy consumption <span style=\"color:#4285f4\">*vary over time*</span> (e.g., daily, weekly, monthly), and are there any <span style=\"color:#4285f4\">*noticeable patterns or seasonality*</span>?**\n",
    "\n",
    "3. **What  <span style=\"color:#4285f4\">*proportion*</span> of energy consumption is <span style=\"color:#4285f4\">*imported from the grid*</span> versus <span style=\"color:#4285f4\">*generated from photovoltaic (PV) systems*</span>?**\n",
    "\n",
    "4. **Are there specific buildings that exhibit <span style=\"color:#4285f4\">*high energy consumption*</span>, and what <span style=\"color:#4285f4\">*factors*</span> contribute to this?**\n",
    "\n",
    "5. **How does the integration of <span style=\"color:#4285f4\">*electric vehicle (EV) charging and battery storage systems*</span> impact overall energy usage and demand patterns?**\n",
    "\n",
    "6. **Are there notable differences in energy usage patterns between <span style=\"color:#4285f4\">*urban, and suburban areas*</span>?**\n",
    "\n",
    "7. **Which <span style=\"color:#4285f4\">*specific appliances or systems*</span> contribute the most to energy consumption within buildings?**\n"
   ]
  },
  {
   "cell_type": "markdown",
   "metadata": {},
   "source": [
    "# <img src=\"./data/data-cleaning.png\" alt=\"Datacleaning Icon\" width=\"30\"/> **Data Exploration**"
   ]
  },
  {
   "cell_type": "code",
   "execution_count": 25,
   "metadata": {},
   "outputs": [],
   "source": [
    "# essential libraries for this EDA\n",
    "import pandas as pd\n",
    "import numpy as np\n",
    "import geopandas\n",
    "import folium\n",
    "import seaborn as sns\n",
    "import matplotlib.pyplot as plt\n",
    "import datetime\n",
    "import scipy\n",
    "import chart_studio.plotly as py\n",
    "import plotly.graph_objs as go\n",
    "import plotly.graph_objects as go\n",
    "from plotly.subplots import make_subplots\n",
    "from plotly.offline import iplot, init_notebook_mode\n",
    "import cufflinks as cf\n",
    "from IPython.core.interactiveshell import InteractiveShell\n",
    "import warnings\n",
    "import os\n",
    "from IPython.display import Image, display, HTML\n",
    "import ipywidgets as widgets\n",
    "from ipywidgets import interact, interact_manual\n",
    "import plotly.figure_factory as ff\n",
    "import calendar  # Import calendar module to get month names"
   ]
  },
  {
   "cell_type": "markdown",
   "metadata": {},
   "source": [
    "Let's read & load the dataset into pandas dataframe"
   ]
  },
  {
   "cell_type": "code",
   "execution_count": 2,
   "metadata": {},
   "outputs": [
    {
     "data": {
      "text/html": [
       "<div>\n",
       "<style scoped>\n",
       "    .dataframe tbody tr th:only-of-type {\n",
       "        vertical-align: middle;\n",
       "    }\n",
       "\n",
       "    .dataframe tbody tr th {\n",
       "        vertical-align: top;\n",
       "    }\n",
       "\n",
       "    .dataframe thead th {\n",
       "        text-align: right;\n",
       "    }\n",
       "</style>\n",
       "<table border=\"1\" class=\"dataframe\">\n",
       "  <thead>\n",
       "    <tr style=\"text-align: right;\">\n",
       "      <th></th>\n",
       "      <th>utc_timestamp</th>\n",
       "      <th>cet_cest_timestamp</th>\n",
       "      <th>DE_KN_industrial1_grid_import</th>\n",
       "      <th>DE_KN_industrial1_pv_1</th>\n",
       "      <th>DE_KN_industrial1_pv_2</th>\n",
       "      <th>DE_KN_industrial2_grid_import</th>\n",
       "      <th>DE_KN_industrial2_pv</th>\n",
       "      <th>DE_KN_industrial2_storage_charge</th>\n",
       "      <th>DE_KN_industrial2_storage_decharge</th>\n",
       "      <th>DE_KN_industrial3_area_offices</th>\n",
       "      <th>...</th>\n",
       "      <th>DE_KN_residential5_refrigerator</th>\n",
       "      <th>DE_KN_residential5_washing_machine</th>\n",
       "      <th>DE_KN_residential6_circulation_pump</th>\n",
       "      <th>DE_KN_residential6_dishwasher</th>\n",
       "      <th>DE_KN_residential6_freezer</th>\n",
       "      <th>DE_KN_residential6_grid_export</th>\n",
       "      <th>DE_KN_residential6_grid_import</th>\n",
       "      <th>DE_KN_residential6_pv</th>\n",
       "      <th>DE_KN_residential6_washing_machine</th>\n",
       "      <th>interpolated</th>\n",
       "    </tr>\n",
       "  </thead>\n",
       "  <tbody>\n",
       "    <tr>\n",
       "      <th>0</th>\n",
       "      <td>2015-12-31T23:00:00Z</td>\n",
       "      <td>2016-01-01T00:00:00+0100</td>\n",
       "      <td>17763.750</td>\n",
       "      <td>356.09</td>\n",
       "      <td>238.135</td>\n",
       "      <td>NaN</td>\n",
       "      <td>1501.47</td>\n",
       "      <td>NaN</td>\n",
       "      <td>NaN</td>\n",
       "      <td>2425.934</td>\n",
       "      <td>...</td>\n",
       "      <td>59.438</td>\n",
       "      <td>43.247</td>\n",
       "      <td>77.930</td>\n",
       "      <td>10.579</td>\n",
       "      <td>26.562</td>\n",
       "      <td>NaN</td>\n",
       "      <td>1038.112</td>\n",
       "      <td>671.511</td>\n",
       "      <td>8.777</td>\n",
       "      <td>DE_KN_residential6_circulation_pump | DE_KN_re...</td>\n",
       "    </tr>\n",
       "    <tr>\n",
       "      <th>1</th>\n",
       "      <td>2016-01-01T00:00:00Z</td>\n",
       "      <td>2016-01-01T01:00:00+0100</td>\n",
       "      <td>17775.000</td>\n",
       "      <td>356.09</td>\n",
       "      <td>238.135</td>\n",
       "      <td>NaN</td>\n",
       "      <td>1501.47</td>\n",
       "      <td>NaN</td>\n",
       "      <td>NaN</td>\n",
       "      <td>2426.487</td>\n",
       "      <td>...</td>\n",
       "      <td>59.495</td>\n",
       "      <td>43.247</td>\n",
       "      <td>78.009</td>\n",
       "      <td>10.579</td>\n",
       "      <td>26.576</td>\n",
       "      <td>NaN</td>\n",
       "      <td>1038.357</td>\n",
       "      <td>671.511</td>\n",
       "      <td>8.777</td>\n",
       "      <td>DE_KN_residential6_circulation_pump | DE_KN_re...</td>\n",
       "    </tr>\n",
       "    <tr>\n",
       "      <th>2</th>\n",
       "      <td>2016-01-01T01:00:00Z</td>\n",
       "      <td>2016-01-01T02:00:00+0100</td>\n",
       "      <td>17783.758</td>\n",
       "      <td>356.09</td>\n",
       "      <td>238.135</td>\n",
       "      <td>NaN</td>\n",
       "      <td>1501.47</td>\n",
       "      <td>NaN</td>\n",
       "      <td>NaN</td>\n",
       "      <td>2427.077</td>\n",
       "      <td>...</td>\n",
       "      <td>59.509</td>\n",
       "      <td>43.247</td>\n",
       "      <td>78.039</td>\n",
       "      <td>10.579</td>\n",
       "      <td>26.604</td>\n",
       "      <td>NaN</td>\n",
       "      <td>1038.592</td>\n",
       "      <td>671.511</td>\n",
       "      <td>8.777</td>\n",
       "      <td>DE_KN_residential3_washing_machine | DE_KN_res...</td>\n",
       "    </tr>\n",
       "    <tr>\n",
       "      <th>3</th>\n",
       "      <td>2016-01-01T02:00:00Z</td>\n",
       "      <td>2016-01-01T03:00:00+0100</td>\n",
       "      <td>17789.004</td>\n",
       "      <td>356.09</td>\n",
       "      <td>238.135</td>\n",
       "      <td>NaN</td>\n",
       "      <td>1501.47</td>\n",
       "      <td>NaN</td>\n",
       "      <td>NaN</td>\n",
       "      <td>2427.707</td>\n",
       "      <td>...</td>\n",
       "      <td>59.566</td>\n",
       "      <td>43.247</td>\n",
       "      <td>78.067</td>\n",
       "      <td>10.579</td>\n",
       "      <td>26.622</td>\n",
       "      <td>NaN</td>\n",
       "      <td>1038.840</td>\n",
       "      <td>671.511</td>\n",
       "      <td>8.777</td>\n",
       "      <td>DE_KN_residential3_washing_machine | DE_KN_res...</td>\n",
       "    </tr>\n",
       "    <tr>\n",
       "      <th>4</th>\n",
       "      <td>2016-01-01T03:00:00Z</td>\n",
       "      <td>2016-01-01T04:00:00+0100</td>\n",
       "      <td>17796.754</td>\n",
       "      <td>356.09</td>\n",
       "      <td>238.135</td>\n",
       "      <td>NaN</td>\n",
       "      <td>1501.47</td>\n",
       "      <td>NaN</td>\n",
       "      <td>NaN</td>\n",
       "      <td>2428.327</td>\n",
       "      <td>...</td>\n",
       "      <td>59.606</td>\n",
       "      <td>43.247</td>\n",
       "      <td>78.095</td>\n",
       "      <td>10.579</td>\n",
       "      <td>26.647</td>\n",
       "      <td>NaN</td>\n",
       "      <td>1039.019</td>\n",
       "      <td>671.511</td>\n",
       "      <td>8.777</td>\n",
       "      <td>DE_KN_residential6_circulation_pump | DE_KN_re...</td>\n",
       "    </tr>\n",
       "  </tbody>\n",
       "</table>\n",
       "<p>5 rows × 71 columns</p>\n",
       "</div>"
      ],
      "text/plain": [
       "          utc_timestamp        cet_cest_timestamp  \\\n",
       "0  2015-12-31T23:00:00Z  2016-01-01T00:00:00+0100   \n",
       "1  2016-01-01T00:00:00Z  2016-01-01T01:00:00+0100   \n",
       "2  2016-01-01T01:00:00Z  2016-01-01T02:00:00+0100   \n",
       "3  2016-01-01T02:00:00Z  2016-01-01T03:00:00+0100   \n",
       "4  2016-01-01T03:00:00Z  2016-01-01T04:00:00+0100   \n",
       "\n",
       "   DE_KN_industrial1_grid_import  DE_KN_industrial1_pv_1  \\\n",
       "0                      17763.750                  356.09   \n",
       "1                      17775.000                  356.09   \n",
       "2                      17783.758                  356.09   \n",
       "3                      17789.004                  356.09   \n",
       "4                      17796.754                  356.09   \n",
       "\n",
       "   DE_KN_industrial1_pv_2  DE_KN_industrial2_grid_import  \\\n",
       "0                 238.135                            NaN   \n",
       "1                 238.135                            NaN   \n",
       "2                 238.135                            NaN   \n",
       "3                 238.135                            NaN   \n",
       "4                 238.135                            NaN   \n",
       "\n",
       "   DE_KN_industrial2_pv  DE_KN_industrial2_storage_charge  \\\n",
       "0               1501.47                               NaN   \n",
       "1               1501.47                               NaN   \n",
       "2               1501.47                               NaN   \n",
       "3               1501.47                               NaN   \n",
       "4               1501.47                               NaN   \n",
       "\n",
       "   DE_KN_industrial2_storage_decharge  DE_KN_industrial3_area_offices  ...  \\\n",
       "0                                 NaN                        2425.934  ...   \n",
       "1                                 NaN                        2426.487  ...   \n",
       "2                                 NaN                        2427.077  ...   \n",
       "3                                 NaN                        2427.707  ...   \n",
       "4                                 NaN                        2428.327  ...   \n",
       "\n",
       "   DE_KN_residential5_refrigerator  DE_KN_residential5_washing_machine  \\\n",
       "0                           59.438                              43.247   \n",
       "1                           59.495                              43.247   \n",
       "2                           59.509                              43.247   \n",
       "3                           59.566                              43.247   \n",
       "4                           59.606                              43.247   \n",
       "\n",
       "   DE_KN_residential6_circulation_pump  DE_KN_residential6_dishwasher  \\\n",
       "0                               77.930                         10.579   \n",
       "1                               78.009                         10.579   \n",
       "2                               78.039                         10.579   \n",
       "3                               78.067                         10.579   \n",
       "4                               78.095                         10.579   \n",
       "\n",
       "   DE_KN_residential6_freezer  DE_KN_residential6_grid_export  \\\n",
       "0                      26.562                             NaN   \n",
       "1                      26.576                             NaN   \n",
       "2                      26.604                             NaN   \n",
       "3                      26.622                             NaN   \n",
       "4                      26.647                             NaN   \n",
       "\n",
       "   DE_KN_residential6_grid_import  DE_KN_residential6_pv  \\\n",
       "0                        1038.112                671.511   \n",
       "1                        1038.357                671.511   \n",
       "2                        1038.592                671.511   \n",
       "3                        1038.840                671.511   \n",
       "4                        1039.019                671.511   \n",
       "\n",
       "   DE_KN_residential6_washing_machine  \\\n",
       "0                               8.777   \n",
       "1                               8.777   \n",
       "2                               8.777   \n",
       "3                               8.777   \n",
       "4                               8.777   \n",
       "\n",
       "                                        interpolated  \n",
       "0  DE_KN_residential6_circulation_pump | DE_KN_re...  \n",
       "1  DE_KN_residential6_circulation_pump | DE_KN_re...  \n",
       "2  DE_KN_residential3_washing_machine | DE_KN_res...  \n",
       "3  DE_KN_residential3_washing_machine | DE_KN_res...  \n",
       "4  DE_KN_residential6_circulation_pump | DE_KN_re...  \n",
       "\n",
       "[5 rows x 71 columns]"
      ]
     },
     "execution_count": 2,
     "metadata": {},
     "output_type": "execute_result"
    }
   ],
   "source": [
    "# read & load the dataset into pandas dataframe\n",
    "household = pd.read_csv('./data/household_data_60min_singleindex.csv', delimiter=',')\n",
    "household.head()"
   ]
  },
  {
   "cell_type": "markdown",
   "metadata": {},
   "source": [
    "\n",
    "\n",
    "<div style=\"background-color: rgba(144, 238, 144, 0.5); color: black; padding: 10px; border-radius: 5px;\">\n",
    "    <img src=\"./data/research.png\" alt=\"Research Icon\" width=\"25\"/> <strong>Noteworthy Data Observation:</strong> \n",
    "\n",
    "- Upon examining the data for each building type, it becomes apparent that the <strong><i>public buildings, residential 2 and 5 have limited metrics, which may not offer significant insights.</i></strong> Therefore, I've decided to <strong><i>remove</i></strong> that columns for clarity and focus on the metrics that provide more valuable information.\n",
    "- Also, I only analyzed the data for <strong><i>the year 2016</i></strong> because the data for other years either had <strong><i>incomplete consumption data or had very small consumption/production</i></strong> data in some months. Therefore, I chose to focus solely on exploring the data for the year 2016 for better insights.\n",
    "</div>"
   ]
  },
  {
   "cell_type": "code",
   "execution_count": 3,
   "metadata": {},
   "outputs": [],
   "source": [
    "household = household.drop(columns=['DE_KN_public1_grid_import', 'DE_KN_public2_grid_import', 'DE_KN_residential2_circulation_pump',\n",
    "                                    'DE_KN_residential2_dishwasher', 'DE_KN_residential2_freezer', 'DE_KN_residential2_grid_import',\n",
    "                                    'DE_KN_residential2_washing_machine', 'DE_KN_residential5_dishwasher', 'DE_KN_residential5_grid_import',\n",
    "                                    'DE_KN_residential5_refrigerator', 'DE_KN_residential5_washing_machine'])"
   ]
  },
  {
   "cell_type": "markdown",
   "metadata": {},
   "source": [
    "Let's verify the number of columns and rows in the dataset."
   ]
  },
  {
   "cell_type": "code",
   "execution_count": 4,
   "metadata": {},
   "outputs": [
    {
     "name": "stdout",
     "output_type": "stream",
     "text": [
      "Household Dataset Contains, Rows: 8,785 & Columns: 60\n"
     ]
    }
   ],
   "source": [
    "# check the no. of columns & rows\n",
    "print('Household Dataset Contains, Rows: {:,d} & Columns: {}'.format(household.shape[0], household.shape[1]))"
   ]
  },
  {
   "cell_type": "markdown",
   "metadata": {},
   "source": [
    "Review important details to understand the dataset types thoroughly and begin a structured exploration. This will help identify the columns present in the household dataset."
   ]
  },
  {
   "cell_type": "code",
   "execution_count": 5,
   "metadata": {
    "scrolled": true
   },
   "outputs": [
    {
     "name": "stdout",
     "output_type": "stream",
     "text": [
      "<class 'pandas.core.frame.DataFrame'>\n",
      "RangeIndex: 8785 entries, 0 to 8784\n",
      "Data columns (total 60 columns):\n",
      " #   Column                               Non-Null Count  Dtype  \n",
      "---  ------                               --------------  -----  \n",
      " 0   utc_timestamp                        8785 non-null   object \n",
      " 1   cet_cest_timestamp                   8785 non-null   object \n",
      " 2   DE_KN_industrial1_grid_import        8785 non-null   float64\n",
      " 3   DE_KN_industrial1_pv_1               8785 non-null   float64\n",
      " 4   DE_KN_industrial1_pv_2               8785 non-null   float64\n",
      " 5   DE_KN_industrial2_grid_import        7534 non-null   float64\n",
      " 6   DE_KN_industrial2_pv                 8785 non-null   float64\n",
      " 7   DE_KN_industrial2_storage_charge     6009 non-null   float64\n",
      " 8   DE_KN_industrial2_storage_decharge   6009 non-null   float64\n",
      " 9   DE_KN_industrial3_area_offices       8785 non-null   float64\n",
      " 10  DE_KN_industrial3_area_room_1        8785 non-null   float64\n",
      " 11  DE_KN_industrial3_area_room_2        8785 non-null   float64\n",
      " 12  DE_KN_industrial3_area_room_3        8785 non-null   float64\n",
      " 13  DE_KN_industrial3_area_room_4        8785 non-null   float64\n",
      " 14  DE_KN_industrial3_compressor         8785 non-null   float64\n",
      " 15  DE_KN_industrial3_cooling_aggregate  8785 non-null   float64\n",
      " 16  DE_KN_industrial3_cooling_pumps      8785 non-null   float64\n",
      " 17  DE_KN_industrial3_dishwasher         8785 non-null   float64\n",
      " 18  DE_KN_industrial3_ev                 6711 non-null   float64\n",
      " 19  DE_KN_industrial3_grid_import        7791 non-null   float64\n",
      " 20  DE_KN_industrial3_machine_1          8785 non-null   float64\n",
      " 21  DE_KN_industrial3_machine_2          8785 non-null   float64\n",
      " 22  DE_KN_industrial3_machine_3          8785 non-null   float64\n",
      " 23  DE_KN_industrial3_machine_4          8785 non-null   float64\n",
      " 24  DE_KN_industrial3_machine_5          8785 non-null   float64\n",
      " 25  DE_KN_industrial3_pv_facade          8785 non-null   float64\n",
      " 26  DE_KN_industrial3_pv_roof            8785 non-null   float64\n",
      " 27  DE_KN_industrial3_refrigerator       8785 non-null   float64\n",
      " 28  DE_KN_industrial3_ventilation        8785 non-null   float64\n",
      " 29  DE_KN_residential1_dishwasher        8785 non-null   float64\n",
      " 30  DE_KN_residential1_freezer           8785 non-null   float64\n",
      " 31  DE_KN_residential1_grid_import       8785 non-null   float64\n",
      " 32  DE_KN_residential1_heat_pump         8785 non-null   float64\n",
      " 33  DE_KN_residential1_pv                8785 non-null   float64\n",
      " 34  DE_KN_residential1_washing_machine   8785 non-null   float64\n",
      " 35  DE_KN_residential3_circulation_pump  8785 non-null   float64\n",
      " 36  DE_KN_residential3_dishwasher        8785 non-null   float64\n",
      " 37  DE_KN_residential3_freezer           8785 non-null   float64\n",
      " 38  DE_KN_residential3_grid_export       7375 non-null   float64\n",
      " 39  DE_KN_residential3_grid_import       7375 non-null   float64\n",
      " 40  DE_KN_residential3_pv                7375 non-null   float64\n",
      " 41  DE_KN_residential3_refrigerator      8785 non-null   float64\n",
      " 42  DE_KN_residential3_washing_machine   8785 non-null   float64\n",
      " 43  DE_KN_residential4_dishwasher        8785 non-null   float64\n",
      " 44  DE_KN_residential4_ev                8785 non-null   float64\n",
      " 45  DE_KN_residential4_freezer           8785 non-null   float64\n",
      " 46  DE_KN_residential4_grid_export       8785 non-null   float64\n",
      " 47  DE_KN_residential4_grid_import       8785 non-null   float64\n",
      " 48  DE_KN_residential4_heat_pump         8785 non-null   float64\n",
      " 49  DE_KN_residential4_pv                8785 non-null   float64\n",
      " 50  DE_KN_residential4_refrigerator      8785 non-null   float64\n",
      " 51  DE_KN_residential4_washing_machine   8785 non-null   float64\n",
      " 52  DE_KN_residential6_circulation_pump  8785 non-null   float64\n",
      " 53  DE_KN_residential6_dishwasher        8785 non-null   float64\n",
      " 54  DE_KN_residential6_freezer           8785 non-null   float64\n",
      " 55  DE_KN_residential6_grid_export       5579 non-null   float64\n",
      " 56  DE_KN_residential6_grid_import       8785 non-null   float64\n",
      " 57  DE_KN_residential6_pv                8785 non-null   float64\n",
      " 58  DE_KN_residential6_washing_machine   8785 non-null   float64\n",
      " 59  interpolated                         8522 non-null   object \n",
      "dtypes: float64(57), object(3)\n",
      "memory usage: 4.0+ MB\n"
     ]
    }
   ],
   "source": [
    "# check key details to comprehend the dataset thoroughly and initiate a structured exploration\n",
    "# with this we can also uncover the lineup of columns in the listing dataset\n",
    "household.info()"
   ]
  },
  {
   "cell_type": "markdown",
   "metadata": {},
   "source": [
    "Discard the column formatted in CET as I prefer to work with UTC for the timeseries data analysis, aligning with best practices in data handling."
   ]
  },
  {
   "cell_type": "code",
   "execution_count": 6,
   "metadata": {},
   "outputs": [],
   "source": [
    "# Drop the column with CET format because it is better work with UTC for timeseries data\n",
    "household = household.drop(columns=['cet_cest_timestamp'])"
   ]
  },
  {
   "cell_type": "markdown",
   "metadata": {},
   "source": [
    "Transforming the 'utc_timestamp' column to datetime format enhances the manageability and analytical capabilities of time-related data, facilitating tasks such as sorting, filtering, and extracting specific time components for more insightful analysis and visualization."
   ]
  },
  {
   "cell_type": "code",
   "execution_count": 7,
   "metadata": {},
   "outputs": [],
   "source": [
    "# Convert 'utc_timestamp' columns to datetime\n",
    "household['utc_timestamp'] = pd.to_datetime(household['utc_timestamp'])"
   ]
  },
  {
   "cell_type": "code",
   "execution_count": 8,
   "metadata": {},
   "outputs": [
    {
     "name": "stdout",
     "output_type": "stream",
     "text": [
      "datetime64[ns, UTC]\n"
     ]
    }
   ],
   "source": [
    "# Check the new data type of utc\n",
    "print(household['utc_timestamp'].dtypes)"
   ]
  },
  {
   "cell_type": "markdown",
   "metadata": {},
   "source": [
    "Verify for the presence of negative values to ensure the integrity of the data."
   ]
  },
  {
   "cell_type": "code",
   "execution_count": 9,
   "metadata": {},
   "outputs": [
    {
     "name": "stdout",
     "output_type": "stream",
     "text": [
      "There are no negative values in the DataFrame.\n"
     ]
    }
   ],
   "source": [
    "# Check for negative values to ensure data integrity\n",
    "if (household.select_dtypes(include='number') < 0).any().any():\n",
    "    print(\"There are negative values in the DataFrame.\")\n",
    "else:\n",
    "    print(\"There are no negative values in the DataFrame.\")"
   ]
  },
  {
   "cell_type": "markdown",
   "metadata": {},
   "source": [
    "Let's examine whether there are any NaN values in the dataset."
   ]
  },
  {
   "cell_type": "code",
   "execution_count": 10,
   "metadata": {
    "scrolled": true
   },
   "outputs": [
    {
     "data": {
      "text/plain": [
       "utc_timestamp                             0\n",
       "DE_KN_industrial1_grid_import             0\n",
       "DE_KN_industrial1_pv_1                    0\n",
       "DE_KN_industrial1_pv_2                    0\n",
       "DE_KN_industrial2_grid_import          1251\n",
       "DE_KN_industrial2_pv                      0\n",
       "DE_KN_industrial2_storage_charge       2776\n",
       "DE_KN_industrial2_storage_decharge     2776\n",
       "DE_KN_industrial3_area_offices            0\n",
       "DE_KN_industrial3_area_room_1             0\n",
       "DE_KN_industrial3_area_room_2             0\n",
       "DE_KN_industrial3_area_room_3             0\n",
       "DE_KN_industrial3_area_room_4             0\n",
       "DE_KN_industrial3_compressor              0\n",
       "DE_KN_industrial3_cooling_aggregate       0\n",
       "DE_KN_industrial3_cooling_pumps           0\n",
       "DE_KN_industrial3_dishwasher              0\n",
       "DE_KN_industrial3_ev                   2074\n",
       "DE_KN_industrial3_grid_import           994\n",
       "DE_KN_industrial3_machine_1               0\n",
       "DE_KN_industrial3_machine_2               0\n",
       "DE_KN_industrial3_machine_3               0\n",
       "DE_KN_industrial3_machine_4               0\n",
       "DE_KN_industrial3_machine_5               0\n",
       "DE_KN_industrial3_pv_facade               0\n",
       "DE_KN_industrial3_pv_roof                 0\n",
       "DE_KN_industrial3_refrigerator            0\n",
       "DE_KN_industrial3_ventilation             0\n",
       "DE_KN_residential1_dishwasher             0\n",
       "DE_KN_residential1_freezer                0\n",
       "DE_KN_residential1_grid_import            0\n",
       "DE_KN_residential1_heat_pump              0\n",
       "DE_KN_residential1_pv                     0\n",
       "DE_KN_residential1_washing_machine        0\n",
       "DE_KN_residential3_circulation_pump       0\n",
       "DE_KN_residential3_dishwasher             0\n",
       "DE_KN_residential3_freezer                0\n",
       "DE_KN_residential3_grid_export         1410\n",
       "DE_KN_residential3_grid_import         1410\n",
       "DE_KN_residential3_pv                  1410\n",
       "DE_KN_residential3_refrigerator           0\n",
       "DE_KN_residential3_washing_machine        0\n",
       "DE_KN_residential4_dishwasher             0\n",
       "DE_KN_residential4_ev                     0\n",
       "DE_KN_residential4_freezer                0\n",
       "DE_KN_residential4_grid_export            0\n",
       "DE_KN_residential4_grid_import            0\n",
       "DE_KN_residential4_heat_pump              0\n",
       "DE_KN_residential4_pv                     0\n",
       "DE_KN_residential4_refrigerator           0\n",
       "DE_KN_residential4_washing_machine        0\n",
       "DE_KN_residential6_circulation_pump       0\n",
       "DE_KN_residential6_dishwasher             0\n",
       "DE_KN_residential6_freezer                0\n",
       "DE_KN_residential6_grid_export         3206\n",
       "DE_KN_residential6_grid_import            0\n",
       "DE_KN_residential6_pv                     0\n",
       "DE_KN_residential6_washing_machine        0\n",
       "interpolated                            263\n",
       "dtype: int64"
      ]
     },
     "execution_count": 10,
     "metadata": {},
     "output_type": "execute_result"
    }
   ],
   "source": [
    "# let's check if there is any NaN values\n",
    "household.isna().sum()"
   ]
  },
  {
   "cell_type": "markdown",
   "metadata": {},
   "source": [
    "<div style=\"background-color: rgba(144, 238, 144, 0.5); color: black; padding: 10px; border-radius: 5px;\">\n",
    "    <img src=\"./data/research.png\" alt=\"Research Icon\" width=\"25\"/> <strong>Noteworthy Data Observation:</strong> \n",
    "\n",
    "The <strong><i>presence of numerous NaN values is likely due to the absence of energy generation or consumption during those specific hours</i></strong>. Thus, let's replace these NaN values with <strong><i>\"0\"</i></strong> to ensure consistency in our dataset.</div>"
   ]
  },
  {
   "cell_type": "code",
   "execution_count": 11,
   "metadata": {},
   "outputs": [],
   "source": [
    "# NaN values replaced with 0 to denote no energy activity.\n",
    "household.fillna(0, inplace=True)"
   ]
  },
  {
   "cell_type": "markdown",
   "metadata": {},
   "source": [
    "<div style=\"background-color: #ffcccc; border: 1px solid #ff6666; border-radius: 5px; padding: 10px;\">\n",
    "    <p style=\"color: #8b0000; font-weight: bold;\"><img src=\"./data/data-processing.png\" alt=\"DataProcessing Icon\" width=\"25\" style=\"color: #cc0000; font-weight: bold;\">Data Processing in Action:</p>\n",
    "    <p><span style=\"color: #000000;\">The <em>\"hourly_data\"</em> is first structured for analysis by <span style=\"font-weight: bold;\">setting the 'utc_timestamp' column as the index</span> for time-series analysis and isolating energy-related columns.</span></p>\n",
    "    <p><span style=\"color: #000000;\">The dataset initially contained <span style=\"font-weight: bold;\">cumulative energy data over time</span>, which isn't conducive to drawing insights. To address this, the data was <span style=\"font-weight: bold;\">transformed into hourly energy consumption/generation intervals by computing the differences</span> between each row and its preceding one.</span></p>\n",
    "    <p><span style=\"color: #000000;\">To ensure accuracy, the absolute differences are calculated using <em>abs()</em>, a crucial step <span style=\"font-weight: bold;\">considering potential negative values</span> that may arise from variations in hourly consumption or production. </span></p>\n",
    "    <p><span style=\"color: #000000;\">This process allows for a more granular analysis of energy consumption and production trends over time.</span></p>\n",
    "</div>\n",
    "\n"
   ]
  },
  {
   "cell_type": "code",
   "execution_count": 12,
   "metadata": {},
   "outputs": [
    {
     "data": {
      "text/html": [
       "<div>\n",
       "<style scoped>\n",
       "    .dataframe tbody tr th:only-of-type {\n",
       "        vertical-align: middle;\n",
       "    }\n",
       "\n",
       "    .dataframe tbody tr th {\n",
       "        vertical-align: top;\n",
       "    }\n",
       "\n",
       "    .dataframe thead th {\n",
       "        text-align: right;\n",
       "    }\n",
       "</style>\n",
       "<table border=\"1\" class=\"dataframe\">\n",
       "  <thead>\n",
       "    <tr style=\"text-align: right;\">\n",
       "      <th></th>\n",
       "      <th>DE_KN_industrial1_grid_import</th>\n",
       "      <th>DE_KN_industrial1_pv_1</th>\n",
       "      <th>DE_KN_industrial1_pv_2</th>\n",
       "      <th>DE_KN_industrial2_grid_import</th>\n",
       "      <th>DE_KN_industrial2_pv</th>\n",
       "      <th>DE_KN_industrial2_storage_charge</th>\n",
       "      <th>DE_KN_industrial2_storage_decharge</th>\n",
       "      <th>DE_KN_industrial3_area_offices</th>\n",
       "      <th>DE_KN_industrial3_area_room_1</th>\n",
       "      <th>DE_KN_industrial3_area_room_2</th>\n",
       "      <th>...</th>\n",
       "      <th>DE_KN_residential4_pv</th>\n",
       "      <th>DE_KN_residential4_refrigerator</th>\n",
       "      <th>DE_KN_residential4_washing_machine</th>\n",
       "      <th>DE_KN_residential6_circulation_pump</th>\n",
       "      <th>DE_KN_residential6_dishwasher</th>\n",
       "      <th>DE_KN_residential6_freezer</th>\n",
       "      <th>DE_KN_residential6_grid_export</th>\n",
       "      <th>DE_KN_residential6_grid_import</th>\n",
       "      <th>DE_KN_residential6_pv</th>\n",
       "      <th>DE_KN_residential6_washing_machine</th>\n",
       "    </tr>\n",
       "    <tr>\n",
       "      <th>utc_timestamp</th>\n",
       "      <th></th>\n",
       "      <th></th>\n",
       "      <th></th>\n",
       "      <th></th>\n",
       "      <th></th>\n",
       "      <th></th>\n",
       "      <th></th>\n",
       "      <th></th>\n",
       "      <th></th>\n",
       "      <th></th>\n",
       "      <th></th>\n",
       "      <th></th>\n",
       "      <th></th>\n",
       "      <th></th>\n",
       "      <th></th>\n",
       "      <th></th>\n",
       "      <th></th>\n",
       "      <th></th>\n",
       "      <th></th>\n",
       "      <th></th>\n",
       "      <th></th>\n",
       "    </tr>\n",
       "  </thead>\n",
       "  <tbody>\n",
       "    <tr>\n",
       "      <th>2016-01-01 00:00:00+00:00</th>\n",
       "      <td>11.250</td>\n",
       "      <td>0.0</td>\n",
       "      <td>0.0</td>\n",
       "      <td>0.0</td>\n",
       "      <td>0.0</td>\n",
       "      <td>0.0</td>\n",
       "      <td>0.0</td>\n",
       "      <td>0.553</td>\n",
       "      <td>0.160</td>\n",
       "      <td>1.351</td>\n",
       "      <td>...</td>\n",
       "      <td>0.0</td>\n",
       "      <td>0.000</td>\n",
       "      <td>0.0</td>\n",
       "      <td>0.079</td>\n",
       "      <td>0.0</td>\n",
       "      <td>0.014</td>\n",
       "      <td>0.0</td>\n",
       "      <td>0.245</td>\n",
       "      <td>0.0</td>\n",
       "      <td>0.000</td>\n",
       "    </tr>\n",
       "    <tr>\n",
       "      <th>2016-01-01 01:00:00+00:00</th>\n",
       "      <td>8.758</td>\n",
       "      <td>0.0</td>\n",
       "      <td>0.0</td>\n",
       "      <td>0.0</td>\n",
       "      <td>0.0</td>\n",
       "      <td>0.0</td>\n",
       "      <td>0.0</td>\n",
       "      <td>0.590</td>\n",
       "      <td>0.170</td>\n",
       "      <td>1.360</td>\n",
       "      <td>...</td>\n",
       "      <td>0.0</td>\n",
       "      <td>0.048</td>\n",
       "      <td>0.0</td>\n",
       "      <td>0.030</td>\n",
       "      <td>0.0</td>\n",
       "      <td>0.028</td>\n",
       "      <td>0.0</td>\n",
       "      <td>0.235</td>\n",
       "      <td>0.0</td>\n",
       "      <td>0.000</td>\n",
       "    </tr>\n",
       "    <tr>\n",
       "      <th>2016-01-01 02:00:00+00:00</th>\n",
       "      <td>5.246</td>\n",
       "      <td>0.0</td>\n",
       "      <td>0.0</td>\n",
       "      <td>0.0</td>\n",
       "      <td>0.0</td>\n",
       "      <td>0.0</td>\n",
       "      <td>0.0</td>\n",
       "      <td>0.630</td>\n",
       "      <td>0.162</td>\n",
       "      <td>1.349</td>\n",
       "      <td>...</td>\n",
       "      <td>0.0</td>\n",
       "      <td>0.000</td>\n",
       "      <td>0.0</td>\n",
       "      <td>0.028</td>\n",
       "      <td>0.0</td>\n",
       "      <td>0.018</td>\n",
       "      <td>0.0</td>\n",
       "      <td>0.248</td>\n",
       "      <td>0.0</td>\n",
       "      <td>0.000</td>\n",
       "    </tr>\n",
       "    <tr>\n",
       "      <th>2016-01-01 03:00:00+00:00</th>\n",
       "      <td>7.750</td>\n",
       "      <td>0.0</td>\n",
       "      <td>0.0</td>\n",
       "      <td>0.0</td>\n",
       "      <td>0.0</td>\n",
       "      <td>0.0</td>\n",
       "      <td>0.0</td>\n",
       "      <td>0.620</td>\n",
       "      <td>0.168</td>\n",
       "      <td>1.381</td>\n",
       "      <td>...</td>\n",
       "      <td>0.0</td>\n",
       "      <td>0.000</td>\n",
       "      <td>0.0</td>\n",
       "      <td>0.028</td>\n",
       "      <td>0.0</td>\n",
       "      <td>0.025</td>\n",
       "      <td>0.0</td>\n",
       "      <td>0.179</td>\n",
       "      <td>0.0</td>\n",
       "      <td>0.000</td>\n",
       "    </tr>\n",
       "    <tr>\n",
       "      <th>2016-01-01 04:00:00+00:00</th>\n",
       "      <td>6.746</td>\n",
       "      <td>0.0</td>\n",
       "      <td>0.0</td>\n",
       "      <td>0.0</td>\n",
       "      <td>0.0</td>\n",
       "      <td>0.0</td>\n",
       "      <td>0.0</td>\n",
       "      <td>0.707</td>\n",
       "      <td>0.170</td>\n",
       "      <td>1.369</td>\n",
       "      <td>...</td>\n",
       "      <td>0.0</td>\n",
       "      <td>0.046</td>\n",
       "      <td>0.0</td>\n",
       "      <td>0.040</td>\n",
       "      <td>0.0</td>\n",
       "      <td>0.022</td>\n",
       "      <td>0.0</td>\n",
       "      <td>0.466</td>\n",
       "      <td>0.0</td>\n",
       "      <td>0.001</td>\n",
       "    </tr>\n",
       "  </tbody>\n",
       "</table>\n",
       "<p>5 rows × 57 columns</p>\n",
       "</div>"
      ],
      "text/plain": [
       "                           DE_KN_industrial1_grid_import  \\\n",
       "utc_timestamp                                              \n",
       "2016-01-01 00:00:00+00:00                         11.250   \n",
       "2016-01-01 01:00:00+00:00                          8.758   \n",
       "2016-01-01 02:00:00+00:00                          5.246   \n",
       "2016-01-01 03:00:00+00:00                          7.750   \n",
       "2016-01-01 04:00:00+00:00                          6.746   \n",
       "\n",
       "                           DE_KN_industrial1_pv_1  DE_KN_industrial1_pv_2  \\\n",
       "utc_timestamp                                                               \n",
       "2016-01-01 00:00:00+00:00                     0.0                     0.0   \n",
       "2016-01-01 01:00:00+00:00                     0.0                     0.0   \n",
       "2016-01-01 02:00:00+00:00                     0.0                     0.0   \n",
       "2016-01-01 03:00:00+00:00                     0.0                     0.0   \n",
       "2016-01-01 04:00:00+00:00                     0.0                     0.0   \n",
       "\n",
       "                           DE_KN_industrial2_grid_import  \\\n",
       "utc_timestamp                                              \n",
       "2016-01-01 00:00:00+00:00                            0.0   \n",
       "2016-01-01 01:00:00+00:00                            0.0   \n",
       "2016-01-01 02:00:00+00:00                            0.0   \n",
       "2016-01-01 03:00:00+00:00                            0.0   \n",
       "2016-01-01 04:00:00+00:00                            0.0   \n",
       "\n",
       "                           DE_KN_industrial2_pv  \\\n",
       "utc_timestamp                                     \n",
       "2016-01-01 00:00:00+00:00                   0.0   \n",
       "2016-01-01 01:00:00+00:00                   0.0   \n",
       "2016-01-01 02:00:00+00:00                   0.0   \n",
       "2016-01-01 03:00:00+00:00                   0.0   \n",
       "2016-01-01 04:00:00+00:00                   0.0   \n",
       "\n",
       "                           DE_KN_industrial2_storage_charge  \\\n",
       "utc_timestamp                                                 \n",
       "2016-01-01 00:00:00+00:00                               0.0   \n",
       "2016-01-01 01:00:00+00:00                               0.0   \n",
       "2016-01-01 02:00:00+00:00                               0.0   \n",
       "2016-01-01 03:00:00+00:00                               0.0   \n",
       "2016-01-01 04:00:00+00:00                               0.0   \n",
       "\n",
       "                           DE_KN_industrial2_storage_decharge  \\\n",
       "utc_timestamp                                                   \n",
       "2016-01-01 00:00:00+00:00                                 0.0   \n",
       "2016-01-01 01:00:00+00:00                                 0.0   \n",
       "2016-01-01 02:00:00+00:00                                 0.0   \n",
       "2016-01-01 03:00:00+00:00                                 0.0   \n",
       "2016-01-01 04:00:00+00:00                                 0.0   \n",
       "\n",
       "                           DE_KN_industrial3_area_offices  \\\n",
       "utc_timestamp                                               \n",
       "2016-01-01 00:00:00+00:00                           0.553   \n",
       "2016-01-01 01:00:00+00:00                           0.590   \n",
       "2016-01-01 02:00:00+00:00                           0.630   \n",
       "2016-01-01 03:00:00+00:00                           0.620   \n",
       "2016-01-01 04:00:00+00:00                           0.707   \n",
       "\n",
       "                           DE_KN_industrial3_area_room_1  \\\n",
       "utc_timestamp                                              \n",
       "2016-01-01 00:00:00+00:00                          0.160   \n",
       "2016-01-01 01:00:00+00:00                          0.170   \n",
       "2016-01-01 02:00:00+00:00                          0.162   \n",
       "2016-01-01 03:00:00+00:00                          0.168   \n",
       "2016-01-01 04:00:00+00:00                          0.170   \n",
       "\n",
       "                           DE_KN_industrial3_area_room_2  ...  \\\n",
       "utc_timestamp                                             ...   \n",
       "2016-01-01 00:00:00+00:00                          1.351  ...   \n",
       "2016-01-01 01:00:00+00:00                          1.360  ...   \n",
       "2016-01-01 02:00:00+00:00                          1.349  ...   \n",
       "2016-01-01 03:00:00+00:00                          1.381  ...   \n",
       "2016-01-01 04:00:00+00:00                          1.369  ...   \n",
       "\n",
       "                           DE_KN_residential4_pv  \\\n",
       "utc_timestamp                                      \n",
       "2016-01-01 00:00:00+00:00                    0.0   \n",
       "2016-01-01 01:00:00+00:00                    0.0   \n",
       "2016-01-01 02:00:00+00:00                    0.0   \n",
       "2016-01-01 03:00:00+00:00                    0.0   \n",
       "2016-01-01 04:00:00+00:00                    0.0   \n",
       "\n",
       "                           DE_KN_residential4_refrigerator  \\\n",
       "utc_timestamp                                                \n",
       "2016-01-01 00:00:00+00:00                            0.000   \n",
       "2016-01-01 01:00:00+00:00                            0.048   \n",
       "2016-01-01 02:00:00+00:00                            0.000   \n",
       "2016-01-01 03:00:00+00:00                            0.000   \n",
       "2016-01-01 04:00:00+00:00                            0.046   \n",
       "\n",
       "                           DE_KN_residential4_washing_machine  \\\n",
       "utc_timestamp                                                   \n",
       "2016-01-01 00:00:00+00:00                                 0.0   \n",
       "2016-01-01 01:00:00+00:00                                 0.0   \n",
       "2016-01-01 02:00:00+00:00                                 0.0   \n",
       "2016-01-01 03:00:00+00:00                                 0.0   \n",
       "2016-01-01 04:00:00+00:00                                 0.0   \n",
       "\n",
       "                           DE_KN_residential6_circulation_pump  \\\n",
       "utc_timestamp                                                    \n",
       "2016-01-01 00:00:00+00:00                                0.079   \n",
       "2016-01-01 01:00:00+00:00                                0.030   \n",
       "2016-01-01 02:00:00+00:00                                0.028   \n",
       "2016-01-01 03:00:00+00:00                                0.028   \n",
       "2016-01-01 04:00:00+00:00                                0.040   \n",
       "\n",
       "                           DE_KN_residential6_dishwasher  \\\n",
       "utc_timestamp                                              \n",
       "2016-01-01 00:00:00+00:00                            0.0   \n",
       "2016-01-01 01:00:00+00:00                            0.0   \n",
       "2016-01-01 02:00:00+00:00                            0.0   \n",
       "2016-01-01 03:00:00+00:00                            0.0   \n",
       "2016-01-01 04:00:00+00:00                            0.0   \n",
       "\n",
       "                           DE_KN_residential6_freezer  \\\n",
       "utc_timestamp                                           \n",
       "2016-01-01 00:00:00+00:00                       0.014   \n",
       "2016-01-01 01:00:00+00:00                       0.028   \n",
       "2016-01-01 02:00:00+00:00                       0.018   \n",
       "2016-01-01 03:00:00+00:00                       0.025   \n",
       "2016-01-01 04:00:00+00:00                       0.022   \n",
       "\n",
       "                           DE_KN_residential6_grid_export  \\\n",
       "utc_timestamp                                               \n",
       "2016-01-01 00:00:00+00:00                             0.0   \n",
       "2016-01-01 01:00:00+00:00                             0.0   \n",
       "2016-01-01 02:00:00+00:00                             0.0   \n",
       "2016-01-01 03:00:00+00:00                             0.0   \n",
       "2016-01-01 04:00:00+00:00                             0.0   \n",
       "\n",
       "                           DE_KN_residential6_grid_import  \\\n",
       "utc_timestamp                                               \n",
       "2016-01-01 00:00:00+00:00                           0.245   \n",
       "2016-01-01 01:00:00+00:00                           0.235   \n",
       "2016-01-01 02:00:00+00:00                           0.248   \n",
       "2016-01-01 03:00:00+00:00                           0.179   \n",
       "2016-01-01 04:00:00+00:00                           0.466   \n",
       "\n",
       "                           DE_KN_residential6_pv  \\\n",
       "utc_timestamp                                      \n",
       "2016-01-01 00:00:00+00:00                    0.0   \n",
       "2016-01-01 01:00:00+00:00                    0.0   \n",
       "2016-01-01 02:00:00+00:00                    0.0   \n",
       "2016-01-01 03:00:00+00:00                    0.0   \n",
       "2016-01-01 04:00:00+00:00                    0.0   \n",
       "\n",
       "                           DE_KN_residential6_washing_machine  \n",
       "utc_timestamp                                                  \n",
       "2016-01-01 00:00:00+00:00                               0.000  \n",
       "2016-01-01 01:00:00+00:00                               0.000  \n",
       "2016-01-01 02:00:00+00:00                               0.000  \n",
       "2016-01-01 03:00:00+00:00                               0.000  \n",
       "2016-01-01 04:00:00+00:00                               0.001  \n",
       "\n",
       "[5 rows x 57 columns]"
      ]
     },
     "execution_count": 12,
     "metadata": {},
     "output_type": "execute_result"
    }
   ],
   "source": [
    "# Set 'utc_timestamp' as index\n",
    "household.set_index('utc_timestamp', inplace=True)\n",
    "\n",
    "# Select only energy-related columns (excluding 'interpolated')\n",
    "energy_columns = household.columns[household.columns.str.startswith('DE_KN')]\n",
    "\n",
    "# Calculate hourly consumption/production data\n",
    "hourly_data = household[energy_columns].diff().abs()  # Use abs() to make differences absolute\n",
    "\n",
    "# Drop rows with any NaN values\n",
    "hourly_data.dropna(inplace=True)\n",
    "\n",
    "# Print the resulting DataFrame\n",
    "hourly_data.head()"
   ]
  },
  {
   "cell_type": "markdown",
   "metadata": {},
   "source": [
    "Verify for the presence of negative values to ensure the integrity of the data."
   ]
  },
  {
   "cell_type": "code",
   "execution_count": 13,
   "metadata": {},
   "outputs": [
    {
     "name": "stdout",
     "output_type": "stream",
     "text": [
      "There are no negative values in the DataFrame.\n"
     ]
    }
   ],
   "source": [
    "# Check for negative values to ensure data integrity\n",
    "if (hourly_data.select_dtypes(include='number') < 0).any().any():\n",
    "    print(\"There are negative values in the DataFrame.\")\n",
    "else:\n",
    "    print(\"There are no negative values in the DataFrame.\")"
   ]
  },
  {
   "cell_type": "markdown",
   "metadata": {},
   "source": [
    "<div style=\"background-color: #ffcccc; border: 1px solid #ff6666; border-radius: 5px; padding: 10px;\">\n",
    "    <p style=\"color: #8b0000; font-weight: bold;\"><img src=\"./data/data-processing.png\" alt=\"DataProcessing Icon\" width=\"25\" style=\"color: #cc0000; font-weight: bold;\">Data Processing in Action:</p>\n",
    "    <ul style=\"list-style-type: square; color: #000000;\">\n",
    "        <li><span style=\"color: #000000; font-weight: bold;\">Hourly Data Segregation:</span> <span style=\"color: black;\">The script divides the dataset into separate DataFrames for different building types.</span></li>\n",
    "        <li><span style=\"color: #000000; font-weight: bold;\">Column Filtering:</span> <span style=\"color: black;\">Relevant columns related to energy generation, consumption, and grid export are filtered for each building type.</span></li>\n",
    "        <li><span style=\"color: #000000; font-weight: bold;\">Metric Computation:</span> <span style=\"color: black;\">New columns are created to compute metrics such as total energy generation, total consumption, and total grid export for each building type.</span></li>\n",
    "        <li><span style=\"color: #000000; font-weight: bold;\">Organized Data:</span> <span style=\"color: black;\">The processed data is organized into individual DataFrames for industrial and residential buildings.</span></li>\n",
    "        <li><span style=\"color: #000000; font-weight: bold;\">Custom Analysis and Visualization:</span> <span style=\"color: black;\">The organized data facilitates further analysis and visualization tailored to specific building types.</span></li>\n",
    "    </ul>\n",
    "</div>\n"
   ]
  },
  {
   "cell_type": "code",
   "execution_count": 14,
   "metadata": {},
   "outputs": [],
   "source": [
    "# Create separate DataFrame for industrial1\n",
    "industrial1_columns = [col for col in hourly_data.columns if col.startswith('DE_KN_industrial1')]\n",
    "industrial1_df = hourly_data[industrial1_columns]\n",
    "\n",
    "# Create a new column for generation for industrial1_df\n",
    "industrial1_df = industrial1_df.copy()  # Make a copy to avoid modifying the original DataFrame\n",
    "industrial1_df.loc[:, 'generation_industrial1'] = industrial1_df['DE_KN_industrial1_pv_1'] + industrial1_df['DE_KN_industrial1_pv_2']\n",
    "\n",
    "# Create a new column for consumption\n",
    "# In this case, since there's only one grid_import column, no need for summation for industrial1_df\n",
    "industrial1_df.loc[:, 'consumption_industrial1'] = industrial1_df['DE_KN_industrial1_grid_import']"
   ]
  },
  {
   "cell_type": "code",
   "execution_count": 15,
   "metadata": {},
   "outputs": [],
   "source": [
    "# Create separate DataFrame for industrial2\n",
    "industrial2_columns = [col for col in hourly_data.columns if col.startswith('DE_KN_industrial2')]\n",
    "industrial2_df = hourly_data[industrial2_columns]\n",
    "\n",
    "# Create a new column for generation for industrial2_df\n",
    "industrial2_df = industrial2_df.copy()\n",
    "industrial2_df.loc[:, 'generation_industrial2'] = industrial2_df['DE_KN_industrial2_pv']\n",
    "\n",
    "# Create a new column for consumption\n",
    "# In this case, since there's only one grid_import column, no need for summation for industrial2_df\n",
    "industrial2_df.loc[:, 'consumption_industrial2'] = industrial2_df['DE_KN_industrial2_grid_import']\n",
    "\n",
    "# Create a new column for storage change\n",
    "industrial2_df.loc[:, 'storage_change_industrial2'] = industrial2_df['DE_KN_industrial2_storage_charge'] - industrial2_df['DE_KN_industrial2_storage_decharge']\n"
   ]
  },
  {
   "cell_type": "code",
   "execution_count": 16,
   "metadata": {},
   "outputs": [],
   "source": [
    "# Create separate DataFrame for industrial3\n",
    "industrial3_columns = [col for col in hourly_data.columns if col.startswith('DE_KN_industrial3')]\n",
    "industrial3_df = hourly_data[industrial3_columns]\n",
    "\n",
    "# Create a new column for generation for industrial3_df\n",
    "industrial3_df = industrial3_df.copy()  # Make a copy to avoid modifying the original DataFrame\n",
    "industrial3_df.loc[:, 'generation_industrial3'] = industrial3_df['DE_KN_industrial3_pv_facade'] + industrial3_df['DE_KN_industrial3_pv_roof']\n",
    "\n",
    "# Include 'ev' column in the consumption calculation for industrial3_df\n",
    "consumption_cols_with_ev = [col for col in industrial3_df.columns if col.startswith('DE_KN_industrial3') and col not in \\\n",
    "                            ['DE_KN_industrial3_pv_facade', 'DE_KN_industrial3_pv_roof']]\n",
    "industrial3_df.loc[:, 'consumption_with_ev'] = industrial3_df[consumption_cols_with_ev].sum(axis=1)\n",
    "\n",
    "# Exclude 'ev' column from the consumption calculation for industrial3_df\n",
    "consumption_cols_without_ev = [col for col in industrial3_df.columns if col.startswith('DE_KN_industrial3') and col not in \\\n",
    "                               ['DE_KN_industrial3_pv_facade', 'DE_KN_industrial3_pv_roof', 'DE_KN_industrial3_ev']]\n",
    "industrial3_df.loc[:, 'consumption_without_ev'] = industrial3_df[consumption_cols_without_ev].sum(axis=1)\n"
   ]
  },
  {
   "cell_type": "code",
   "execution_count": 17,
   "metadata": {},
   "outputs": [],
   "source": [
    "# Create separate DataFrame for residential1\n",
    "residential1_columns = [col for col in hourly_data.columns if col.startswith('DE_KN_residential1')]\n",
    "residential1_df = hourly_data[residential1_columns]\n",
    "\n",
    "# Create a new column for generation for residential1_df\n",
    "residential1_df = residential1_df.copy()  # Make a copy to avoid modifying the original DataFrame\n",
    "residential1_df.loc[:, 'generation_residential1'] = residential1_df['DE_KN_residential1_pv']\n",
    "\n",
    "# Create a new column for consumption by summing the dishwasher, freezer, grid_import, \n",
    "# heat_pump, and washing_machine columns for residential1_df\n",
    "consumption_cols = [col for col in residential1_df.columns if col.startswith('DE_KN_residential1') and col != 'DE_KN_residential1_pv']\n",
    "residential1_df.loc[:, 'consumption_residential1'] = residential1_df[consumption_cols].sum(axis=1)"
   ]
  },
  {
   "cell_type": "code",
   "execution_count": 18,
   "metadata": {},
   "outputs": [],
   "source": [
    "# Create separate DataFrame for residential3\n",
    "residential3_columns = [col for col in hourly_data.columns if col.startswith('DE_KN_residential3')]\n",
    "residential3_df = hourly_data[residential3_columns]\n",
    "\n",
    "# Create a new column for generation and export for residential3_df\n",
    "residential3_df = residential3_df.copy()  # Make a copy to avoid modifying the original DataFrame\n",
    "residential3_df.loc[:, 'generation_residential3'] = residential3_df['DE_KN_residential3_pv']\n",
    "residential3_df.loc[:, 'generation_export_residential3'] = residential3_df['DE_KN_residential3_grid_export']\n",
    "\n",
    "# Create a new column for consumption for residential3_df\n",
    "consumption_cols = [col for col in residential3_df.columns if col.startswith('DE_KN_residential3') and col not in \\\n",
    "                    ['DE_KN_residential3_pv', 'DE_KN_residential3_grid_export']]\n",
    "residential3_df.loc[:, 'consumption_residential3'] = residential3_df[consumption_cols].sum(axis=1)"
   ]
  },
  {
   "cell_type": "code",
   "execution_count": 19,
   "metadata": {},
   "outputs": [],
   "source": [
    "# Create separate DataFrame for residential4\n",
    "residential4_columns = [col for col in hourly_data.columns if col.startswith('DE_KN_residential4')]\n",
    "residential4_df = hourly_data[residential4_columns]\n",
    "\n",
    "# Create a new column for generation and export for residential4_df\n",
    "residential4_df = residential4_df.copy()  # Make a copy to avoid modifying the original DataFrame\n",
    "residential4_df.loc[:, 'generation_residential4'] = residential4_df['DE_KN_residential4_pv']\n",
    "residential4_df.loc[:, 'generation_export_residential4'] = residential4_df['DE_KN_residential4_grid_export']\n",
    "\n",
    "# Create a new column for consumption including 'ev' for residential4_df\n",
    "consumption_cols_with_ev = [col for col in residential4_df.columns if col.startswith('DE_KN_residential4') and col not in \\\n",
    "                            ['DE_KN_residential4_pv', 'DE_KN_residential4_grid_export']]\n",
    "residential4_df.loc[:, 'consumption_residential4_with_ev'] = residential4_df[consumption_cols_with_ev].sum(axis=1)\n",
    "\n",
    "# Create a new column for consumption excluding 'ev' for residential4_df\n",
    "consumption_cols_without_ev = [col for col in residential4_df.columns if col.startswith('DE_KN_residential4') and col not in \\\n",
    "                               ['DE_KN_residential4_pv', 'DE_KN_residential4_grid_export', 'DE_KN_residential4_ev']]\n",
    "residential4_df.loc[:, 'consumption_residential4_without_ev'] = residential4_df[consumption_cols_without_ev].sum(axis=1)"
   ]
  },
  {
   "cell_type": "code",
   "execution_count": 20,
   "metadata": {},
   "outputs": [],
   "source": [
    "# Create separate DataFrame for residential6\n",
    "residential6_columns = [col for col in hourly_data.columns if col.startswith('DE_KN_residential6')]\n",
    "residential6_df = hourly_data[residential6_columns]\n",
    "\n",
    "# Create a new column for generation and export for residential6_df\n",
    "residential6_df = residential6_df.copy()  # Make a copy to avoid modifying the original DataFrame\n",
    "residential6_df.loc[:, 'generation_residential6'] = residential6_df['DE_KN_residential6_pv']\n",
    "residential6_df.loc[:, 'generation_export_residential6'] = residential6_df['DE_KN_residential6_grid_export']\n",
    "\n",
    "# Create a new column for consumption\n",
    "consumption_cols = [col for col in residential6_df.columns if col.startswith('DE_KN_residential6') and col not in \\\n",
    "                    ['DE_KN_residential6_pv', 'DE_KN_residential6_grid_export']]\n",
    "residential6_df.loc[:, 'consumption_residential6'] = residential6_df[consumption_cols].sum(axis=1)"
   ]
  },
  {
   "cell_type": "code",
   "execution_count": 22,
   "metadata": {},
   "outputs": [
    {
     "data": {
      "application/vnd.jupyter.widget-view+json": {
       "model_id": "7113292b4cee40a899ca712f327ccc6e",
       "version_major": 2,
       "version_minor": 0
      },
      "text/plain": [
       "interactive(children=(Dropdown(description='Building Type:', layout=Layout(width='300px'), options=('industria…"
      ]
     },
     "metadata": {},
     "output_type": "display_data"
    }
   ],
   "source": [
    "# Dictionary to store dataframes for different building types\n",
    "building_dfs = {\n",
    "    'industrial1': industrial1_df,\n",
    "    'industrial2': industrial2_df,\n",
    "    'industrial3': industrial3_df,\n",
    "    'residential1': residential1_df,\n",
    "    'residential3': residential3_df,\n",
    "    'residential4': residential4_df,\n",
    "    'residential6': residential6_df\n",
    "}\n",
    "\n",
    "# Define widget for selecting building type with adjusted width and font size\n",
    "building_type_widget = widgets.Dropdown(options=list(building_dfs.keys()), description='Building Type:',\n",
    "                                        layout={'width': '300px'}, style={'description_width': 'initial', 'font-size': '10pt'})\n",
    "\n",
    "# Define widget for selecting columns\n",
    "columns_widget = widgets.SelectMultiple(description='Columns:', disabled=False)\n",
    "\n",
    "# Define a function to update the options of columns widget when building type changes\n",
    "def update_columns_options(building_type):\n",
    "    if building_type in building_dfs:\n",
    "        columns_widget.options = building_dfs[building_type].columns.tolist()\n",
    "    else:\n",
    "        columns_widget.options = []\n",
    "\n",
    "# Define a function to be called when the building type selection changes\n",
    "def on_building_type_change(change):\n",
    "    update_columns_options(change.new)\n",
    "\n",
    "# Attach the function to the building type widget's observe method\n",
    "building_type_widget.observe(on_building_type_change, names='value')\n",
    "\n",
    "# Define function to display head of dataframe based on selected building type and columns\n",
    "def display_head(building_type, columns):\n",
    "    if not columns:  # Check if columns is empty\n",
    "        print(\"Please select at least one column or building type.\")\n",
    "        return\n",
    "    \n",
    "    # Get the dataframe for the selected building type\n",
    "    df = building_dfs.get(building_type)\n",
    "    if df is not None:\n",
    "        display(df[list(columns)].head())\n",
    "    else:\n",
    "        print(\"Invalid building type.\")\n",
    "\n",
    "# Create interactive display\n",
    "interact(display_head, building_type=building_type_widget, columns=columns_widget);\n"
   ]
  },
  {
   "cell_type": "markdown",
   "metadata": {},
   "source": [
    "![Chart0](./data/chart0.png)"
   ]
  },
  {
   "cell_type": "markdown",
   "metadata": {},
   "source": [
    "# <img src=\"./data/highconsumption.png\" alt=\"High consumption\" width=\"30\"/> **High Usage Investigation**"
   ]
  },
  {
   "cell_type": "markdown",
   "metadata": {},
   "source": [
    "This section focuses on investigating high energy usage by employing statistical methods to identify buildings with excessive grid consumption/solar generation/solar generation export and exploring potential contributing factors."
   ]
  },
  {
   "cell_type": "code",
   "execution_count": 24,
   "metadata": {},
   "outputs": [
    {
     "data": {
      "application/vnd.plotly.v1+json": {
       "config": {
        "plotlyServerURL": "https://plot.ly"
       },
       "data": [
        {
         "hovertemplate": "%{y}: %{x:.2f} kWh",
         "marker": {
          "color": "blue",
          "line": {
           "color": "black",
           "width": 2
          },
          "opacity": 0.5,
          "size": [
           243.53528899999998,
           10.715639,
           1244.242646,
           11.434349000000001,
           4.848849,
           8.06783,
           3.8340929999999998
          ],
          "sizemin": 4,
          "sizemode": "area",
          "sizeref": 1.5553033075
         },
         "mode": "markers",
         "name": "Consumption",
         "type": "scatter",
         "x": [
          243.53528899999998,
          10.715639,
          1244.242646,
          11.434349000000001,
          4.848849,
          8.06783,
          3.8340929999999998
         ],
         "xaxis": "x",
         "y": [
          "Industrial 1: Warehouse ",
          "Industrial 2: Craft Sector ",
          "Industrial 3: Research Institute ",
          "Residential 1: Suburban ",
          "Residential 3: Urban ",
          "Residential 4: Urban ",
          "Residential 6: Urban "
         ],
         "yaxis": "y"
        },
        {
         "hovertemplate": "%{y}: %{x:.2f} kWh",
         "marker": {
          "color": "orange",
          "line": {
           "color": "black",
           "width": 2
          },
          "opacity": 0.5,
          "size": [
           9.050251,
           18.679396000000004,
           18.548074,
           9.365128,
           4.222123,
           11.073506,
           8.852930000000002
          ],
          "sizemin": 4,
          "sizemode": "area",
          "sizeref": 0.023349245000000005
         },
         "mode": "markers",
         "name": "Solar",
         "type": "scatter",
         "x": [
          9.050251,
          18.679396000000004,
          18.548074,
          9.365128,
          4.222123,
          11.073506,
          8.852930000000002
         ],
         "xaxis": "x2",
         "y": [
          "Industrial 1: Warehouse ",
          "Industrial 2: Craft Sector ",
          "Industrial 3: Research Institute ",
          "Residential 1: Suburban ",
          "Residential 3: Urban ",
          "Residential 4: Urban ",
          "Residential 6: Urban "
         ],
         "yaxis": "y2"
        },
        {
         "hovertemplate": "%{y}: %{x:.2f} kWh",
         "marker": {
          "color": "green",
          "line": {
           "color": "black",
           "width": 2
          },
          "opacity": 0.5,
          "size": [
           0,
           0,
           0,
           0,
           2.794404,
           8.698360999999998,
           1.53429
          ],
          "sizemin": 4,
          "sizemode": "area",
          "sizeref": 0.010872951249999999
         },
         "mode": "markers",
         "name": "Export",
         "type": "scatter",
         "x": [
          0,
          0,
          0,
          0,
          2.794404,
          8.698360999999998,
          1.53429
         ],
         "xaxis": "x3",
         "y": [
          "Industrial 1: Warehouse ",
          "Industrial 2: Craft Sector ",
          "Industrial 3: Research Institute ",
          "Residential 1: Suburban ",
          "Residential 3: Urban ",
          "Residential 4: Urban ",
          "Residential 6: Urban "
         ],
         "yaxis": "y3"
        }
       ],
       "layout": {
        "annotations": [
         {
          "font": {
           "size": 16
          },
          "showarrow": false,
          "text": "Total Consumption",
          "x": 0.14444444444444446,
          "xanchor": "center",
          "xref": "paper",
          "y": 1,
          "yanchor": "bottom",
          "yref": "paper"
         },
         {
          "font": {
           "size": 16
          },
          "showarrow": false,
          "text": "Total Solar Generation",
          "x": 0.5,
          "xanchor": "center",
          "xref": "paper",
          "y": 1,
          "yanchor": "bottom",
          "yref": "paper"
         },
         {
          "font": {
           "size": 16
          },
          "showarrow": false,
          "text": "Total Solar Generation Export",
          "x": 0.8555555555555556,
          "xanchor": "center",
          "xref": "paper",
          "y": 1,
          "yanchor": "bottom",
          "yref": "paper"
         }
        ],
        "showlegend": false,
        "template": {
         "data": {
          "bar": [
           {
            "error_x": {
             "color": "#2a3f5f"
            },
            "error_y": {
             "color": "#2a3f5f"
            },
            "marker": {
             "line": {
              "color": "#E5ECF6",
              "width": 0.5
             },
             "pattern": {
              "fillmode": "overlay",
              "size": 10,
              "solidity": 0.2
             }
            },
            "type": "bar"
           }
          ],
          "barpolar": [
           {
            "marker": {
             "line": {
              "color": "#E5ECF6",
              "width": 0.5
             },
             "pattern": {
              "fillmode": "overlay",
              "size": 10,
              "solidity": 0.2
             }
            },
            "type": "barpolar"
           }
          ],
          "carpet": [
           {
            "aaxis": {
             "endlinecolor": "#2a3f5f",
             "gridcolor": "white",
             "linecolor": "white",
             "minorgridcolor": "white",
             "startlinecolor": "#2a3f5f"
            },
            "baxis": {
             "endlinecolor": "#2a3f5f",
             "gridcolor": "white",
             "linecolor": "white",
             "minorgridcolor": "white",
             "startlinecolor": "#2a3f5f"
            },
            "type": "carpet"
           }
          ],
          "choropleth": [
           {
            "colorbar": {
             "outlinewidth": 0,
             "ticks": ""
            },
            "type": "choropleth"
           }
          ],
          "contour": [
           {
            "colorbar": {
             "outlinewidth": 0,
             "ticks": ""
            },
            "colorscale": [
             [
              0,
              "#0d0887"
             ],
             [
              0.1111111111111111,
              "#46039f"
             ],
             [
              0.2222222222222222,
              "#7201a8"
             ],
             [
              0.3333333333333333,
              "#9c179e"
             ],
             [
              0.4444444444444444,
              "#bd3786"
             ],
             [
              0.5555555555555556,
              "#d8576b"
             ],
             [
              0.6666666666666666,
              "#ed7953"
             ],
             [
              0.7777777777777778,
              "#fb9f3a"
             ],
             [
              0.8888888888888888,
              "#fdca26"
             ],
             [
              1,
              "#f0f921"
             ]
            ],
            "type": "contour"
           }
          ],
          "contourcarpet": [
           {
            "colorbar": {
             "outlinewidth": 0,
             "ticks": ""
            },
            "type": "contourcarpet"
           }
          ],
          "heatmap": [
           {
            "colorbar": {
             "outlinewidth": 0,
             "ticks": ""
            },
            "colorscale": [
             [
              0,
              "#0d0887"
             ],
             [
              0.1111111111111111,
              "#46039f"
             ],
             [
              0.2222222222222222,
              "#7201a8"
             ],
             [
              0.3333333333333333,
              "#9c179e"
             ],
             [
              0.4444444444444444,
              "#bd3786"
             ],
             [
              0.5555555555555556,
              "#d8576b"
             ],
             [
              0.6666666666666666,
              "#ed7953"
             ],
             [
              0.7777777777777778,
              "#fb9f3a"
             ],
             [
              0.8888888888888888,
              "#fdca26"
             ],
             [
              1,
              "#f0f921"
             ]
            ],
            "type": "heatmap"
           }
          ],
          "heatmapgl": [
           {
            "colorbar": {
             "outlinewidth": 0,
             "ticks": ""
            },
            "colorscale": [
             [
              0,
              "#0d0887"
             ],
             [
              0.1111111111111111,
              "#46039f"
             ],
             [
              0.2222222222222222,
              "#7201a8"
             ],
             [
              0.3333333333333333,
              "#9c179e"
             ],
             [
              0.4444444444444444,
              "#bd3786"
             ],
             [
              0.5555555555555556,
              "#d8576b"
             ],
             [
              0.6666666666666666,
              "#ed7953"
             ],
             [
              0.7777777777777778,
              "#fb9f3a"
             ],
             [
              0.8888888888888888,
              "#fdca26"
             ],
             [
              1,
              "#f0f921"
             ]
            ],
            "type": "heatmapgl"
           }
          ],
          "histogram": [
           {
            "marker": {
             "pattern": {
              "fillmode": "overlay",
              "size": 10,
              "solidity": 0.2
             }
            },
            "type": "histogram"
           }
          ],
          "histogram2d": [
           {
            "colorbar": {
             "outlinewidth": 0,
             "ticks": ""
            },
            "colorscale": [
             [
              0,
              "#0d0887"
             ],
             [
              0.1111111111111111,
              "#46039f"
             ],
             [
              0.2222222222222222,
              "#7201a8"
             ],
             [
              0.3333333333333333,
              "#9c179e"
             ],
             [
              0.4444444444444444,
              "#bd3786"
             ],
             [
              0.5555555555555556,
              "#d8576b"
             ],
             [
              0.6666666666666666,
              "#ed7953"
             ],
             [
              0.7777777777777778,
              "#fb9f3a"
             ],
             [
              0.8888888888888888,
              "#fdca26"
             ],
             [
              1,
              "#f0f921"
             ]
            ],
            "type": "histogram2d"
           }
          ],
          "histogram2dcontour": [
           {
            "colorbar": {
             "outlinewidth": 0,
             "ticks": ""
            },
            "colorscale": [
             [
              0,
              "#0d0887"
             ],
             [
              0.1111111111111111,
              "#46039f"
             ],
             [
              0.2222222222222222,
              "#7201a8"
             ],
             [
              0.3333333333333333,
              "#9c179e"
             ],
             [
              0.4444444444444444,
              "#bd3786"
             ],
             [
              0.5555555555555556,
              "#d8576b"
             ],
             [
              0.6666666666666666,
              "#ed7953"
             ],
             [
              0.7777777777777778,
              "#fb9f3a"
             ],
             [
              0.8888888888888888,
              "#fdca26"
             ],
             [
              1,
              "#f0f921"
             ]
            ],
            "type": "histogram2dcontour"
           }
          ],
          "mesh3d": [
           {
            "colorbar": {
             "outlinewidth": 0,
             "ticks": ""
            },
            "type": "mesh3d"
           }
          ],
          "parcoords": [
           {
            "line": {
             "colorbar": {
              "outlinewidth": 0,
              "ticks": ""
             }
            },
            "type": "parcoords"
           }
          ],
          "pie": [
           {
            "automargin": true,
            "type": "pie"
           }
          ],
          "scatter": [
           {
            "fillpattern": {
             "fillmode": "overlay",
             "size": 10,
             "solidity": 0.2
            },
            "type": "scatter"
           }
          ],
          "scatter3d": [
           {
            "line": {
             "colorbar": {
              "outlinewidth": 0,
              "ticks": ""
             }
            },
            "marker": {
             "colorbar": {
              "outlinewidth": 0,
              "ticks": ""
             }
            },
            "type": "scatter3d"
           }
          ],
          "scattercarpet": [
           {
            "marker": {
             "colorbar": {
              "outlinewidth": 0,
              "ticks": ""
             }
            },
            "type": "scattercarpet"
           }
          ],
          "scattergeo": [
           {
            "marker": {
             "colorbar": {
              "outlinewidth": 0,
              "ticks": ""
             }
            },
            "type": "scattergeo"
           }
          ],
          "scattergl": [
           {
            "marker": {
             "colorbar": {
              "outlinewidth": 0,
              "ticks": ""
             }
            },
            "type": "scattergl"
           }
          ],
          "scattermapbox": [
           {
            "marker": {
             "colorbar": {
              "outlinewidth": 0,
              "ticks": ""
             }
            },
            "type": "scattermapbox"
           }
          ],
          "scatterpolar": [
           {
            "marker": {
             "colorbar": {
              "outlinewidth": 0,
              "ticks": ""
             }
            },
            "type": "scatterpolar"
           }
          ],
          "scatterpolargl": [
           {
            "marker": {
             "colorbar": {
              "outlinewidth": 0,
              "ticks": ""
             }
            },
            "type": "scatterpolargl"
           }
          ],
          "scatterternary": [
           {
            "marker": {
             "colorbar": {
              "outlinewidth": 0,
              "ticks": ""
             }
            },
            "type": "scatterternary"
           }
          ],
          "surface": [
           {
            "colorbar": {
             "outlinewidth": 0,
             "ticks": ""
            },
            "colorscale": [
             [
              0,
              "#0d0887"
             ],
             [
              0.1111111111111111,
              "#46039f"
             ],
             [
              0.2222222222222222,
              "#7201a8"
             ],
             [
              0.3333333333333333,
              "#9c179e"
             ],
             [
              0.4444444444444444,
              "#bd3786"
             ],
             [
              0.5555555555555556,
              "#d8576b"
             ],
             [
              0.6666666666666666,
              "#ed7953"
             ],
             [
              0.7777777777777778,
              "#fb9f3a"
             ],
             [
              0.8888888888888888,
              "#fdca26"
             ],
             [
              1,
              "#f0f921"
             ]
            ],
            "type": "surface"
           }
          ],
          "table": [
           {
            "cells": {
             "fill": {
              "color": "#EBF0F8"
             },
             "line": {
              "color": "white"
             }
            },
            "header": {
             "fill": {
              "color": "#C8D4E3"
             },
             "line": {
              "color": "white"
             }
            },
            "type": "table"
           }
          ]
         },
         "layout": {
          "annotationdefaults": {
           "arrowcolor": "#2a3f5f",
           "arrowhead": 0,
           "arrowwidth": 1
          },
          "autotypenumbers": "strict",
          "coloraxis": {
           "colorbar": {
            "outlinewidth": 0,
            "ticks": ""
           }
          },
          "colorscale": {
           "diverging": [
            [
             0,
             "#8e0152"
            ],
            [
             0.1,
             "#c51b7d"
            ],
            [
             0.2,
             "#de77ae"
            ],
            [
             0.3,
             "#f1b6da"
            ],
            [
             0.4,
             "#fde0ef"
            ],
            [
             0.5,
             "#f7f7f7"
            ],
            [
             0.6,
             "#e6f5d0"
            ],
            [
             0.7,
             "#b8e186"
            ],
            [
             0.8,
             "#7fbc41"
            ],
            [
             0.9,
             "#4d9221"
            ],
            [
             1,
             "#276419"
            ]
           ],
           "sequential": [
            [
             0,
             "#0d0887"
            ],
            [
             0.1111111111111111,
             "#46039f"
            ],
            [
             0.2222222222222222,
             "#7201a8"
            ],
            [
             0.3333333333333333,
             "#9c179e"
            ],
            [
             0.4444444444444444,
             "#bd3786"
            ],
            [
             0.5555555555555556,
             "#d8576b"
            ],
            [
             0.6666666666666666,
             "#ed7953"
            ],
            [
             0.7777777777777778,
             "#fb9f3a"
            ],
            [
             0.8888888888888888,
             "#fdca26"
            ],
            [
             1,
             "#f0f921"
            ]
           ],
           "sequentialminus": [
            [
             0,
             "#0d0887"
            ],
            [
             0.1111111111111111,
             "#46039f"
            ],
            [
             0.2222222222222222,
             "#7201a8"
            ],
            [
             0.3333333333333333,
             "#9c179e"
            ],
            [
             0.4444444444444444,
             "#bd3786"
            ],
            [
             0.5555555555555556,
             "#d8576b"
            ],
            [
             0.6666666666666666,
             "#ed7953"
            ],
            [
             0.7777777777777778,
             "#fb9f3a"
            ],
            [
             0.8888888888888888,
             "#fdca26"
            ],
            [
             1,
             "#f0f921"
            ]
           ]
          },
          "colorway": [
           "#636efa",
           "#EF553B",
           "#00cc96",
           "#ab63fa",
           "#FFA15A",
           "#19d3f3",
           "#FF6692",
           "#B6E880",
           "#FF97FF",
           "#FECB52"
          ],
          "font": {
           "color": "#2a3f5f"
          },
          "geo": {
           "bgcolor": "white",
           "lakecolor": "white",
           "landcolor": "#E5ECF6",
           "showlakes": true,
           "showland": true,
           "subunitcolor": "white"
          },
          "hoverlabel": {
           "align": "left"
          },
          "hovermode": "closest",
          "mapbox": {
           "style": "light"
          },
          "paper_bgcolor": "white",
          "plot_bgcolor": "#E5ECF6",
          "polar": {
           "angularaxis": {
            "gridcolor": "white",
            "linecolor": "white",
            "ticks": ""
           },
           "bgcolor": "#E5ECF6",
           "radialaxis": {
            "gridcolor": "white",
            "linecolor": "white",
            "ticks": ""
           }
          },
          "scene": {
           "xaxis": {
            "backgroundcolor": "#E5ECF6",
            "gridcolor": "white",
            "gridwidth": 2,
            "linecolor": "white",
            "showbackground": true,
            "ticks": "",
            "zerolinecolor": "white"
           },
           "yaxis": {
            "backgroundcolor": "#E5ECF6",
            "gridcolor": "white",
            "gridwidth": 2,
            "linecolor": "white",
            "showbackground": true,
            "ticks": "",
            "zerolinecolor": "white"
           },
           "zaxis": {
            "backgroundcolor": "#E5ECF6",
            "gridcolor": "white",
            "gridwidth": 2,
            "linecolor": "white",
            "showbackground": true,
            "ticks": "",
            "zerolinecolor": "white"
           }
          },
          "shapedefaults": {
           "line": {
            "color": "#2a3f5f"
           }
          },
          "ternary": {
           "aaxis": {
            "gridcolor": "white",
            "linecolor": "white",
            "ticks": ""
           },
           "baxis": {
            "gridcolor": "white",
            "linecolor": "white",
            "ticks": ""
           },
           "bgcolor": "#E5ECF6",
           "caxis": {
            "gridcolor": "white",
            "linecolor": "white",
            "ticks": ""
           }
          },
          "title": {
           "x": 0.05
          },
          "xaxis": {
           "automargin": true,
           "gridcolor": "white",
           "linecolor": "white",
           "ticks": "",
           "title": {
            "standoff": 15
           },
           "zerolinecolor": "white",
           "zerolinewidth": 2
          },
          "yaxis": {
           "automargin": true,
           "gridcolor": "white",
           "linecolor": "white",
           "ticks": "",
           "title": {
            "standoff": 15
           },
           "zerolinecolor": "white",
           "zerolinewidth": 2
          }
         }
        },
        "title": {
         "text": "Yearly Total Consumption, Solar Generation, and Solar Generation Export for Each Building"
        },
        "xaxis": {
         "anchor": "y",
         "domain": [
          0,
          0.2888888888888889
         ],
         "title": {
          "text": "kWh"
         }
        },
        "xaxis2": {
         "anchor": "y2",
         "domain": [
          0.35555555555555557,
          0.6444444444444445
         ],
         "title": {
          "text": "kWh"
         }
        },
        "xaxis3": {
         "anchor": "y3",
         "domain": [
          0.7111111111111111,
          1
         ],
         "title": {
          "text": "kWh"
         }
        },
        "yaxis": {
         "anchor": "x",
         "domain": [
          0,
          1
         ],
         "showticklabels": true
        },
        "yaxis2": {
         "anchor": "x2",
         "domain": [
          0,
          1
         ],
         "showticklabels": false
        },
        "yaxis3": {
         "anchor": "x3",
         "domain": [
          0,
          1
         ],
         "showticklabels": false
        }
       }
      }
     },
     "metadata": {},
     "output_type": "display_data"
    }
   ],
   "source": [
    "# Data for buildings and their total consumption/generation/export\n",
    "buildings = ['Industrial 1: Warehouse ', 'Industrial 2: Craft Sector ', 'Industrial 3: Research Institute ', \n",
    "             'Residential 1: Suburban ', 'Residential 3: Urban ', 'Residential 4: Urban ', 'Residential 6: Urban ']\n",
    "\n",
    "total_consumption = [industrial1_df['consumption_industrial1'].sum(),\n",
    "                     industrial2_df['consumption_industrial2'].sum(),\n",
    "                     industrial3_df['consumption_with_ev'].sum(),\n",
    "                     residential1_df['consumption_residential1'].sum(),\n",
    "                     residential3_df['consumption_residential3'].sum(),\n",
    "                     residential4_df['consumption_residential4_with_ev'].sum(),\n",
    "                     residential6_df['consumption_residential6'].sum()]\n",
    "\n",
    "total_generation = [industrial1_df['generation_industrial1'].sum(),\n",
    "                    industrial2_df['generation_industrial2'].sum(),\n",
    "                    industrial3_df['generation_industrial3'].sum(),\n",
    "                    residential1_df['generation_residential1'].sum(),\n",
    "                    residential3_df['generation_residential3'].sum(),\n",
    "                    residential4_df['generation_residential4'].sum(),\n",
    "                    residential6_df['generation_residential6'].sum()]\n",
    "\n",
    "total_export = [\n",
    "    0,\n",
    "    0,\n",
    "    0,\n",
    "    0,\n",
    "    residential3_df['generation_export_residential3'].sum(),\n",
    "    residential4_df['generation_export_residential4'].sum(),\n",
    "    residential6_df['generation_export_residential6'].sum()\n",
    "]\n",
    "\n",
    "# Convert total consumption, generation, and export to kWh\n",
    "total_consumption_kwh = [c / 1000 for c in total_consumption]\n",
    "total_generation_kwh = [g / 1000 for g in total_generation]\n",
    "total_export_kwh = [e / 1000 for e in total_export]\n",
    "\n",
    "# Create a DataFrame for easier manipulation\n",
    "data_consumption = pd.DataFrame({'Building': buildings, 'Total Consumption (kWh)': total_consumption_kwh})\n",
    "data_generation = pd.DataFrame({'Building': buildings, 'Total Generation (kWh)': total_generation_kwh})\n",
    "data_export = pd.DataFrame({'Building': buildings, 'Total Export (kWh)': total_export_kwh})\n",
    "\n",
    "# Create subplots\n",
    "fig = make_subplots(rows=1, cols=3, subplot_titles=('Total Consumption', 'Total Solar Generation', 'Total Solar Generation Export'))\n",
    "\n",
    "# Plotly bubble chart for consumption\n",
    "fig.add_trace(go.Scatter(\n",
    "    x=total_consumption_kwh,\n",
    "    y=data_consumption['Building'],\n",
    "    mode='markers',\n",
    "    marker=dict(\n",
    "        size=total_consumption_kwh,\n",
    "        sizemode='area',\n",
    "        sizeref=2.*max(total_consumption_kwh) / (40.**2),\n",
    "        sizemin=4,\n",
    "        color='blue',\n",
    "        opacity=0.5,\n",
    "        line=dict(color='black', width=2)\n",
    "    ),\n",
    "    name='Consumption',\n",
    "    hovertemplate='%{y}: %{x:.2f} kWh'\n",
    "), row=1, col=1)\n",
    "\n",
    "# Plotly bubble chart for generation\n",
    "fig.add_trace(go.Scatter(\n",
    "    x=total_generation_kwh,\n",
    "    y=data_generation['Building'],\n",
    "    mode='markers',\n",
    "    marker=dict(\n",
    "        size=total_generation_kwh,\n",
    "        sizemode='area',\n",
    "        sizeref=2.*max(total_generation_kwh) / (40.**2),\n",
    "        sizemin=4,\n",
    "        color='orange',\n",
    "        opacity=0.5,\n",
    "        line=dict(color='black', width=2)\n",
    "    ),\n",
    "    name='Solar',\n",
    "    hovertemplate='%{y}: %{x:.2f} kWh'\n",
    "), row=1, col=2)\n",
    "\n",
    "# Plotly bubble chart for export\n",
    "fig.add_trace(go.Scatter(\n",
    "    x=total_export_kwh,\n",
    "    y=data_export['Building'],\n",
    "    mode='markers',\n",
    "    marker=dict(\n",
    "        size=total_export_kwh,\n",
    "        sizemode='area',\n",
    "        sizeref=2.*max(total_export_kwh) / (40.**2),\n",
    "        sizemin=4,\n",
    "        color='green',\n",
    "        opacity=0.5,\n",
    "        line=dict(color='black', width=2)\n",
    "    ),\n",
    "    name='Export',\n",
    "    hovertemplate='%{y}: %{x:.2f} kWh'\n",
    "), row=1, col=3)\n",
    "\n",
    "# Update layout\n",
    "fig.update_layout(\n",
    "    title='Yearly Total Consumption, Solar Generation, and Solar Generation Export for Each Building',\n",
    "    showlegend=False,\n",
    "    yaxis=dict(showticklabels=True),\n",
    "    yaxis2=dict(showticklabels=False),\n",
    "    yaxis3=dict(showticklabels=False),\n",
    ")\n",
    "\n",
    "# Update x-axis titles\n",
    "fig.update_xaxes(title_text='kWh', row=1, col=1)\n",
    "fig.update_xaxes(title_text='kWh', row=1, col=2)\n",
    "fig.update_xaxes(title_text='kWh', row=1, col=3)\n",
    "\n",
    "# Show plot\n",
    "fig.show()"
   ]
  },
  {
   "cell_type": "markdown",
   "metadata": {},
   "source": [
    "![Chart1](./data/chart1.png)"
   ]
  },
  {
   "cell_type": "markdown",
   "metadata": {},
   "source": [
    "## <img src=\"./data/insight.png\" alt=\"Insight Icon\" width=\"30\"/> **Insights:**"
   ]
  },
  {
   "cell_type": "markdown",
   "metadata": {},
   "source": [
    "<div style=\"background-color: rgba(144, 238, 144, 0.5); color: black; padding: 10px; border-radius: 5px;\">\n",
    "\n",
    "**Highest Consumption Building Type**: The building type with the *highest energy consumption* is ***Industrial 3***, functioning as a ***research institute***, consuming approximately **1.2 MWh annually**. Following closely, the second-highest consumption stems from ***Industrial 1***, operating as a ***warehouse***, with an annual consumption of **243.53 kWh**.\n",
    "\n",
    "**Residential Building Consumption**: Residential buildings exhibit relatively consistent yearly consumption ranging from **3 kWh to 11 kWh**.\n",
    "\n",
    "**Warehouse Consumption Discrepancy**: Despite being the second-highest consumer, the ***warehouse*** demonstrates relatively ***low solar generation***, producing only **9 kWh annually**. This indicates a potential disparity between consumption and generation, suggesting a need for further investigation and potentially an ***augmentation of solar generation to achieve self-sufficiency***.\n",
    "\n",
    "**Top Solar Generators**: The top solar generation contributors are ***Residential 1*** and ***Residential 6***, closely trailing each other with **9.37 kWh** and **8.85 kWh**, respectively. Notably, ***Residential 4*** stands out with the highest solar production at **11 kWh annually**.\n",
    "\n",
    "**Surplus Solar Exports**:Among residential buildings, only three can export surplus solar energy. \n",
    "- Urban Residential 4 leads with 8.7 kWh annually, this highlights ***urban homes'*** greater potential for solar export.\n",
    "- Suburban Residential 3 with 2.79 kWh, and\n",
    "- Another urban Residential 6 with 1.53 kWh.\n",
    "\n",
    "**Factors Influencing High Consumption**: \n",
    "- **Building Type**: Industrial buildings typically exhibit higher energy consumption due to the ***presence of heavy machinery and industrial processes***.\n",
    "\n",
    "- **Occupancy Density**: Research institutes, such as Industrial 3, may experience increased energy demands due to ***high numbers of people accommodated during the day***, potentially contributing to elevated consumption levels.\n",
    "\n",
    "- **Usage Patterns**: Residential buildings demonstrate relatively consistent yearly consumption, suggesting ***stable usage patterns*** within these environments.\n",
    "\n",
    "</div>\n"
   ]
  },
  {
   "cell_type": "markdown",
   "metadata": {},
   "source": [
    "# <img src=\"./data/energy-sources.png\" alt=\"Energy sources\" width=\"30\"/> **Energy Source Analysis**"
   ]
  },
  {
   "cell_type": "markdown",
   "metadata": {},
   "source": [
    "This section focuses on analyzing energy sources by calculating the proportion of grid-imported versus PV-generated energy, assessing the impact of renewables on consumption patterns, and evaluating the sustainability of energy usage based on these sources."
   ]
  },
  {
   "cell_type": "markdown",
   "metadata": {},
   "source": [
    "<div style=\"border: 1px solid #000000; padding: 10px;\">\n",
    "This visualization offers stakeholders and clients <span style=\"color:#4285f4\">a dynamic window into energy consumption trends across various building types</span>. By dissecting data into <span style=\"color:#4285f4\">hourly average patterns for each month of the year 2016</span>, they can discern consumption peaks, anomalies, and optimize energy strategies.\n",
    "</div>"
   ]
  },
  {
   "cell_type": "code",
   "execution_count": 26,
   "metadata": {},
   "outputs": [
    {
     "data": {
      "application/vnd.jupyter.widget-view+json": {
       "model_id": "6882aa168e2f42d1a6a73d1dab490440",
       "version_major": 2,
       "version_minor": 0
      },
      "text/plain": [
       "interactive(children=(Dropdown(description='Building Type:', layout=Layout(width='300px'), options=('industria…"
      ]
     },
     "metadata": {},
     "output_type": "display_data"
    },
    {
     "data": {
      "text/plain": [
       "<function __main__.plot_visualization(building_type, month)>"
      ]
     },
     "execution_count": 26,
     "metadata": {},
     "output_type": "execute_result"
    }
   ],
   "source": [
    "# Set seaborn style\n",
    "sns.set_style(\"whitegrid\")\n",
    "\n",
    "# Define a function to plot the visualization\n",
    "def plot_visualization(building_type, month):\n",
    "    year = 2016  # Set the year as there's only one year available\n",
    "    # Filter data by year and building type\n",
    "    filtered_data = building_dfs[building_type][(building_dfs[building_type].index.year == year)]\n",
    "    \n",
    "    # Select columns based on building type\n",
    "    columns = []\n",
    "    if building_type == 'industrial1':\n",
    "        columns = ['generation_industrial1', 'consumption_industrial1']\n",
    "    elif building_type == 'industrial2':\n",
    "        columns = ['generation_industrial2', 'consumption_industrial2']\n",
    "    elif building_type == 'industrial3':\n",
    "        columns = ['generation_industrial3', 'consumption_with_ev']\n",
    "    elif building_type == 'residential1':\n",
    "        columns = ['generation_residential1', 'consumption_residential1']\n",
    "    elif building_type == 'residential3':\n",
    "        columns = ['generation_residential3', 'generation_export_residential3', 'consumption_residential3']\n",
    "    elif building_type == 'residential4':\n",
    "        columns = ['generation_residential4', 'generation_export_residential4', 'consumption_residential4_with_ev']\n",
    "    elif building_type == 'residential6':\n",
    "        columns = ['generation_residential6', 'generation_export_residential6', 'consumption_residential6']\n",
    "    \n",
    "    # Initialize legend labels list\n",
    "    legend_labels = []\n",
    "    \n",
    "    # Color mapping for columns\n",
    "    column_color_mapping = {\n",
    "        'generation_industrial1': 'orange',\n",
    "        'consumption_industrial1': 'blue',\n",
    "        'generation_industrial2': 'orange',\n",
    "        'consumption_industrial2': 'blue',\n",
    "        'generation_industrial3': 'orange',\n",
    "        'consumption_with_ev': 'blue',\n",
    "        'generation_residential1': 'orange',\n",
    "        'consumption_residential1': 'blue',\n",
    "        'generation_residential3': 'orange',\n",
    "        'generation_export_residential3': 'green',\n",
    "        'consumption_residential3': 'blue',\n",
    "        'generation_residential4': 'orange',\n",
    "        'generation_export_residential4': 'green',\n",
    "        'consumption_residential4_with_ev': 'blue',\n",
    "        'generation_residential6': 'orange',\n",
    "        'generation_export_residential6': 'green',\n",
    "        'consumption_residential6': 'blue',\n",
    "    }\n",
    "    \n",
    "    # Label mapping for columns\n",
    "    column_label_mapping = {\n",
    "        'generation_industrial1': 'Solar Generation',\n",
    "        'consumption_industrial1': 'Grid Import',\n",
    "        'generation_industrial2': 'Solar Generation',\n",
    "        'consumption_industrial2': 'Grid Import',\n",
    "        'generation_industrial3': 'Solar Generation',\n",
    "        'consumption_with_ev': 'Grid Import',\n",
    "        'generation_residential1': 'Solar Generation',\n",
    "        'consumption_residential1': 'Grid Import',\n",
    "        'generation_residential3': 'Solar Generation',\n",
    "        'generation_export_residential3': 'Grid Export',\n",
    "        'consumption_residential3': 'Grid Import',\n",
    "        'generation_residential4': 'Solar Generation',\n",
    "        'generation_export_residential4': 'Grid Export',\n",
    "        'consumption_residential4_with_ev': 'Grid Import',\n",
    "        'generation_residential6': 'Solar Generation',\n",
    "        'generation_export_residential6': 'Grid Export',\n",
    "        'consumption_residential6': 'Grid Import',\n",
    "    }\n",
    "    \n",
    "    # Plot hourly average consumption for selected month(s)\n",
    "    if month == \"All Months\":\n",
    "        fig, axes = plt.subplots(4, 3, figsize=(15, 12), sharex=True, sharey=True)\n",
    "        for i, ax in enumerate(axes.flat):\n",
    "            month_data = filtered_data[filtered_data.index.month == i + 1]\n",
    "            for col in columns:\n",
    "                color = column_color_mapping.get(col, 'red')  # Default to red if color not found\n",
    "                label = column_label_mapping.get(col, 'Other')  # Default to 'Other' if label not found\n",
    "                hourly_avg_data = month_data.groupby(month_data.index.hour)[col].mean()  # Ensure hourly aggregation\n",
    "                ax.fill_between(hourly_avg_data.index, hourly_avg_data, alpha=0.3, label=label, color=color)  # Fill between the lines\n",
    "                if i == 0:  # Add legend labels only once\n",
    "                    legend_labels.append(label)\n",
    "            ax.set_title(calendar.month_name[i + 1], fontsize=12)  # Use month names instead of numbers\n",
    "            ax.set_xlabel('Hour of the Day', fontsize=10)\n",
    "            ax.set_ylabel('Average Energy (kWh)', fontsize=10)\n",
    "            ax.grid(True)\n",
    "            ax.set_xticks(range(24))\n",
    "            ax.tick_params(axis='both', which='major', labelsize=8)\n",
    "    else:\n",
    "        month_number = list(calendar.month_name).index(month)\n",
    "        fig, ax = plt.subplots(figsize=(14, 6))\n",
    "        month_data = filtered_data[filtered_data.index.month == month_number]\n",
    "        for col in columns:\n",
    "            color = column_color_mapping.get(col, 'red')  # Default to red if color not found\n",
    "            label = column_label_mapping.get(col, 'Other')  # Default to 'Other' if label not found\n",
    "            hourly_avg_data = month_data.groupby(month_data.index.hour)[col].mean()  # Ensure hourly aggregation\n",
    "            ax.fill_between(hourly_avg_data.index, hourly_avg_data, alpha=0.3, label=label, color=color)  # Fill between the lines\n",
    "        \n",
    "        ax.set_title(f\"{month} - {year}\", fontsize=14)  # Month name and year\n",
    "        ax.set_xlabel('Hour of the Day', fontsize=12)\n",
    "        ax.set_ylabel('Average Energy (kWh)', fontsize=12)\n",
    "        ax.grid(True)\n",
    "        ax.set_xticks(range(24))\n",
    "        ax.tick_params(axis='both', which='major', labelsize=10)\n",
    "        ax.legend(loc='upper left', fontsize=10)\n",
    "    \n",
    "    fig.legend(legend_labels, loc='upper center', bbox_to_anchor=(0.5, 1.1), fontsize=10)  # Adjust legend position\n",
    "    plt.tight_layout()\n",
    "    plt.show()\n",
    "\n",
    "# Define widgets for building type and month selection\n",
    "building_type_widget = widgets.Dropdown(options=list(building_dfs.keys()), description='Building Type:',\n",
    "                                        layout={'width': '300px'}, style={'description_width': 'initial', 'font-size': '10pt'})\n",
    "month_widget = widgets.Dropdown(options=[\"All Months\"] + list(calendar.month_name[1:]), description='Month:',\n",
    "                                 layout={'width': '200px'}, style={'description_width': 'initial', 'font-size': '10pt'})\n",
    "\n",
    "# Create interactive display\n",
    "widgets.interact(plot_visualization, building_type=building_type_widget, month=month_widget)\n"
   ]
  },
  {
   "cell_type": "markdown",
   "metadata": {},
   "source": [
    "![Chart2](./data/chart2.png)"
   ]
  },
  {
   "cell_type": "markdown",
   "metadata": {},
   "source": [
    "![Chart3](./data/chart3.png)"
   ]
  },
  {
   "cell_type": "markdown",
   "metadata": {},
   "source": [
    "## <img src=\"./data/insight.png\" alt=\"Insight Icon\" width=\"30\"/> **Insights:**"
   ]
  },
  {
   "cell_type": "markdown",
   "metadata": {},
   "source": [
    "<div style=\"background-color: rgba(144, 238, 144, 0.5); color: black; padding: 10px; border-radius: 5px;\">\n",
    "\n",
    "**Industrial 1:** \n",
    "- July witnesses the highest **energy consumption** peaking at **70 kWh** at **12 am**, coinciding with nearly **9 kWh** of solar production. This synchronous pattern suggests a balanced energy ecosystem tailored to operational needs, with a substantial energy demand during daylight hours, similar to \"Industrial 3\".\n",
    "\n",
    "**Industrial 2:** \n",
    "- November records the highest consumption averaging almost **4 kWh per hour** during peak times at **7 am** and **4 pm**, with missing data for January. August shines with solar production exceeding **10 kWh** around **11 am**. The absence of January data necessitates investigation for accurate energy management.\n",
    "\n",
    "**Industrial 3:** \n",
    "- August exhibits the highest consumption reaching nearly **250 kWh** at **12 am**, with July and August witnessing peak solar production nearing **18 kWh** around **11 am**. This showcases a reliance on solar energy to offset peak demand periods, suggesting sustainable energy management practices.\n",
    "\n",
    "**Residential 1:** \n",
    "- Winter months witness the highest consumption, notably surpassing **3 kWh** at **4 am**. Despite high demand, July records significant solar production nearing **6 kWh** around **10 am**, suggesting potential for renewable energy integration.\n",
    "\n",
    "**Residential 3:** \n",
    "- October sees the highest consumption peaking at almost **1.5 kWh** at **7 pm**, coupled with solar production peaks in July nearing **2.5 kWh** at **11 am**. Grid export in August peaks at **2 kWh** at **10 am**. The missing solar generation data for January-February warrants validation for accurate energy management decisions.\n",
    "\n",
    "**Residential 4:** \n",
    "- December records the highest consumption reaching close to **4 kWh** at **10 am**, while August stands out for solar production nearing **6 kWh** around **11 am**. Grid export peaks at **5.5 kWh** at **11 am** in August, showcasing efficient utilization of surplus solar energy.\n",
    "\n",
    "**Residential 6:** \n",
    "- Consumption patterns from January to April exhibit a consistent peak slightly over **1 kWh** at **3 pm**, aligning with August's significant solar production nearing **5.5 kWh** around **11 am**. Grid export noted in August and July peaks slightly over **2 kWh** at **10 am**. Lower exports in October, November, and December suggest potential challenges with ***surplus solar waste or data collection***.\n",
    "\n",
    "</div>"
   ]
  },
  {
   "cell_type": "markdown",
   "metadata": {},
   "source": [
    "<div style=\"border: 1px solid #000000; padding: 10px;\">\n",
    "This code provides a comprehensive analysis of solar energy utilization in different types of buildings, presenting <span style=\"color:#4285f4\">key insights such as autoconsumption rates and potential savings</span>. Savings are calculated based on assumed average energy tariffs for import (0,29 €/kWh) and export prices (0,15 €/kWh) from Germany's 2016 data.\n",
    "</div>"
   ]
  },
  {
   "cell_type": "code",
   "execution_count": 27,
   "metadata": {},
   "outputs": [],
   "source": [
    "# Set seaborn style\n",
    "sns.set_style(\"whitegrid\")\n",
    "\n",
    "# Define the cost per kilowatt-hour (€/kWh)\n",
    "cost_kwh = 0.29  # €/kWh\n",
    "cost_export_kwh = 0.15  # €/kWh\n",
    "\n",
    "# Define functions to calculate metrics for industrial buildings\n",
    "def calculate_industrial_metrics(df, generation_col, consumption_col):\n",
    "    solar_hours = df[df[generation_col] > 0].index\n",
    "    kwh_consumed_during_solar_hours = df.loc[solar_hours, consumption_col] - df.loc[solar_hours, generation_col]\n",
    "    total_kwh_consumed_during_solar_hours = kwh_consumed_during_solar_hours.sum()\n",
    "    autoconsumption = df.loc[solar_hours, generation_col].sum()\n",
    "    grid_consumption = total_kwh_consumed_during_solar_hours - autoconsumption\n",
    "    return autoconsumption, grid_consumption\n",
    "\n",
    "# Define a function to calculate savings\n",
    "def calculate_savings(autoconsumption, export):\n",
    "    savings = (autoconsumption * cost_kwh) + (export * cost_export_kwh)\n",
    "    return savings\n"
   ]
  },
  {
   "cell_type": "code",
   "execution_count": 29,
   "metadata": {},
   "outputs": [
    {
     "data": {
      "application/vnd.jupyter.widget-view+json": {
       "model_id": "9f7c5c76ef094bca82c4ca0b489832cc",
       "version_major": 2,
       "version_minor": 0
      },
      "text/plain": [
       "interactive(children=(Dropdown(description='Building Type:', layout=Layout(width='300px'), options=('industria…"
      ]
     },
     "metadata": {},
     "output_type": "display_data"
    },
    {
     "data": {
      "text/plain": [
       "<function __main__.plot_visualization2(building_type)>"
      ]
     },
     "execution_count": 29,
     "metadata": {},
     "output_type": "execute_result"
    }
   ],
   "source": [
    "# Define a function to plot the visualization\n",
    "def plot_visualization2(building_type):\n",
    "    year = 2016  # Set the year as there's only one year available\n",
    "    df = building_dfs[building_type][(building_dfs[building_type].index.year == year)]\n",
    "    \n",
    "    # Map columns based on building type\n",
    "    columns_mapping = {\n",
    "        'industrial1': ('generation_industrial1', 'consumption_industrial1', None),\n",
    "        'industrial2': ('generation_industrial2', 'consumption_industrial2', None),\n",
    "        'industrial3': ('generation_industrial3', 'consumption_with_ev', None),\n",
    "        'residential1': ('generation_residential1', 'consumption_residential1', None),\n",
    "        'residential3': ('generation_residential3', 'consumption_residential3', 'generation_export_residential3'),\n",
    "        'residential4': ('generation_residential4', 'consumption_residential4_with_ev', 'generation_export_residential4'),\n",
    "        'residential6': ('generation_residential6', 'consumption_residential6', 'generation_export_residential6')\n",
    "    }\n",
    "    generation_column, consumption_column, export_column = columns_mapping.get(building_type, (None, None, None))\n",
    "    \n",
    "    # Calculate autoconsumption and grid consumption\n",
    "    if all([generation_column, consumption_column]):\n",
    "        autoconsumption, grid_consumption = calculate_industrial_metrics(df, generation_column, consumption_column)\n",
    "        \n",
    "        # Check if export data is available\n",
    "        if export_column and export_column in df.columns:\n",
    "            export = df[export_column].sum()\n",
    "        else:\n",
    "            export = 0\n",
    "\n",
    "        # Calculate savings\n",
    "        savings = calculate_savings(autoconsumption, export)\n",
    "        \n",
    "        # Prepare data for stacked bar chart - Autoconsumption vs. Grid Consumption\n",
    "        monthly_data_auto_vs_grid = df.groupby(df.index.month)[[generation_column, consumption_column]].sum()\n",
    "        \n",
    "        # Plot stacked bar chart - Autoconsumption vs. Grid Consumption\n",
    "        fig, ax = plt.subplots(figsize=(14, 6))\n",
    "        monthly_data_auto_vs_grid.plot(kind='bar', stacked=True, ax=ax, color=['forestgreen', 'lightgrey'])\n",
    "        ax.set_title(f'Monthly Autoconsumption vs. Grid Import during solar hours for {building_type.capitalize()} building', \n",
    "                     fontsize=16, fontweight='bold')\n",
    "        ax.set_xlabel('Month', fontsize=12)\n",
    "        ax.set_ylabel('Average Energy (kWh)', fontsize=12)\n",
    "        ax.legend(['Autoconsumption', 'Grid Consumption'])\n",
    "        plt.xticks(rotation=0)\n",
    "        \n",
    "        plt.tight_layout()\n",
    "        \n",
    "        # Output savings as text outside the graph\n",
    "        fig.text(0.5, 1.03, f\"Yearly savings from PV installation: €{savings:.2f}\", ha='center', fontsize=12, \n",
    "                 fontweight='bold', color='green', bbox=dict(facecolor='#c0ffce', alpha=0.5, pad=10))\n",
    "        \n",
    "        \n",
    "        plt.show()\n",
    "        \n",
    "        # Prepare data for stacked bar chart - Autoconsumption vs. Grid Export\n",
    "        if export_column and export_column in df.columns:\n",
    "            monthly_data_auto_vs_export = df.groupby(df.index.month)[[generation_column, export_column]].sum()\n",
    "            \n",
    "            # Plot stacked bar chart - Autoconsumption vs. Grid Export\n",
    "            fig_export, ax_export = plt.subplots(figsize=(14, 6))\n",
    "            monthly_data_auto_vs_export.plot(kind='bar', stacked=True, ax=ax_export, color=['forestgreen', 'lightgreen'])\n",
    "            ax_export.set_title(f'Monthly Autoconsumption vs. Grid Export during solar hours for {building_type.capitalize()} Building', fontsize=16, fontweight='bold')\n",
    "            ax_export.set_xlabel('Month', fontsize=12)\n",
    "            ax_export.set_ylabel('Average Energy (kWh)', fontsize=12)\n",
    "            ax_export.legend(['Autoconsumption', 'Grid Export'])\n",
    "            plt.xticks(rotation=0)\n",
    "            plt.tight_layout()\n",
    "            plt.show()\n",
    "        else:\n",
    "            print(f\"No export data available for {building_type.capitalize()} building.\")\n",
    "\n",
    "        \n",
    "    else:\n",
    "        print(f\"No PV generation data available for {building_type.capitalize()}.\")\n",
    "\n",
    "# Define widget for building type selection\n",
    "building_type_widget = widgets.Dropdown(options=list(building_dfs.keys()), description='Building Type:',\n",
    "                                        layout={'width': '300px'}, style={'description_width': 'initial', 'font-size': '10pt'})\n",
    "\n",
    "# Create interactive display\n",
    "widgets.interact(plot_visualization2, building_type=building_type_widget)"
   ]
  },
  {
   "cell_type": "markdown",
   "metadata": {},
   "source": [
    "![Chart4](./data/chart4.png)"
   ]
  },
  {
   "cell_type": "markdown",
   "metadata": {},
   "source": [
    "## <img src=\"./data/insight.png\" alt=\"Insight Icon\" width=\"30\"/> **Insights:**"
   ]
  },
  {
   "cell_type": "markdown",
   "metadata": {},
   "source": [
    "<div style=\"background-color: rgba(144, 238, 144, 0.5); color: black; padding: 10px; border-radius: 5px;\">    \n",
    "   \n",
    "1. <strong><em>Autoconsumption vs Grid Import Distribution:</em></strong>\n",
    "   - Industrial 1 and Industrial 3 demonstrate relatively low autoconsumption percentages yearly(<strong><em>7.1%</em></strong> and <strong><em>2.4%</em></strong>, respectively), indicating a higher reliance on grid electricity.\n",
    "   - In general, the ***highest autoconsumption*** occurs during the month of ***July*** for whole building types.\n",
    "   \n",
    "2. <strong><em>Autoconsumption vs. Grid Export Distribution:</em></strong>\n",
    "   - Residential 6 stands out as the most <strong><em>sustainable</em></strong> and <strong><em>self-sufficient</em></strong> household, boasting an impressive autoconsumption rate of <strong><em>85.2%</em></strong> compared to a grid export rate of <strong><em>14.8%</em></strong>.\n",
    "   - This indicates that during solar hours, <strong><em>85.2%</em></strong> of the generated energy was consumed internally, while the remaining <strong><em>14.8%</em></strong> was exported to the grid, potentially enhancing overall profitability.\n",
    "   \n",
    "3. <strong><em>Savings Analysis:</em></strong>\n",
    "   - <strong><em>Industrial 2</em></strong> yields the highest savings (<strong><em>€5,417.02/year</em></strong>), attributed to robust solar production and effective <strong><em>energy storage utilization</em></strong>, underscoring the importance of incorporating energy storage solutions.\n",
    "   - <strong><em>Industrial 3</em></strong> emerges as the second-highest saver (<strong><em>€5,378.94/year</em></strong>), despite low autoconsumption, owing to its high energy consumption and production rates, emphasizing the impact of consumption levels on savings.\n",
    "   - <strong><em>Residential 3</em></strong> exhibits the lowest savings (<strong><em>€1,643.58/year</em></strong>), suggesting potential inefficiencies or higher grid dependence, necessitating a deeper exploration of consumption patterns or energy management strategies.\n",
    "</div>\n"
   ]
  },
  {
   "cell_type": "markdown",
   "metadata": {},
   "source": [
    "# <img src=\"./data/ev.png\" alt=\"Electricvehicle\" width=\"30\"/> **Exploring Load Characteristics** <img src=\"./data/solar-battery.png\" alt=\"Energystorage\" width=\"30\"/>"
   ]
  },
  {
   "cell_type": "markdown",
   "metadata": {},
   "source": [
    "This chapter centers on evaluating the effects of machinary, home appliances, integrated EV charging, and battery storage systems on energy usage and demand patterns, measuring their influence on consumption, and pinpointing optimization opportunities within buildings."
   ]
  },
  {
   "cell_type": "code",
   "execution_count": 30,
   "metadata": {},
   "outputs": [],
   "source": [
    "# Set seaborn style\n",
    "sns.set_style(\"darkgrid\")\n",
    "\n",
    "# Define columns for each building\n",
    "building_columns = {\n",
    "    'industrial3': ['DE_KN_industrial3_area_offices', 'DE_KN_industrial3_area_room_1', 'DE_KN_industrial3_area_room_2',\n",
    "                    'DE_KN_industrial3_area_room_3', 'DE_KN_industrial3_area_room_4', 'DE_KN_industrial3_compressor',\n",
    "                    'DE_KN_industrial3_cooling_aggregate', 'DE_KN_industrial3_cooling_pumps', 'DE_KN_industrial3_dishwasher',\n",
    "                    'DE_KN_industrial3_machine_1', 'DE_KN_industrial3_machine_2',\n",
    "                    'DE_KN_industrial3_machine_3', 'DE_KN_industrial3_machine_4', 'DE_KN_industrial3_machine_5',\n",
    "                    'DE_KN_industrial3_refrigerator', 'DE_KN_industrial3_ventilation'],\n",
    "    'residential1': ['DE_KN_residential1_dishwasher', 'DE_KN_residential1_freezer', 'DE_KN_residential1_heat_pump', \n",
    "                     'DE_KN_residential1_washing_machine'],\n",
    "    'residential3': ['DE_KN_residential3_circulation_pump', 'DE_KN_residential3_dishwasher', 'DE_KN_residential3_freezer', \n",
    "                     'DE_KN_residential3_refrigerator', 'DE_KN_residential3_washing_machine'],\n",
    "    'residential4': ['DE_KN_residential4_dishwasher', 'DE_KN_residential4_freezer', 'DE_KN_residential4_heat_pump', \n",
    "                     'DE_KN_residential4_refrigerator', \n",
    "                     'DE_KN_residential4_washing_machine'],\n",
    "    'residential6': ['DE_KN_residential6_circulation_pump', 'DE_KN_residential6_dishwasher', 'DE_KN_residential6_freezer', \n",
    "                     'DE_KN_residential6_washing_machine']\n",
    "}\n",
    "\n",
    "# Define a function to calculate hourly average consumption for a given year and building type\n",
    "def calculate_hourly_avg_consumption_year(building_type, selected_columns):\n",
    "    # Filter data for the selected building type\n",
    "    df_building_type = building_dfs[building_type]\n",
    "    \n",
    "    # Calculate hourly average consumption for each selected column\n",
    "    hourly_avg_year = {}\n",
    "    for column in selected_columns:\n",
    "        hourly_avg_year[column] = df_building_type.groupby(df_building_type.index.hour)[column].mean()\n",
    "    \n",
    "    return hourly_avg_year"
   ]
  },
  {
   "cell_type": "code",
   "execution_count": 31,
   "metadata": {},
   "outputs": [],
   "source": [
    "# Define a function to plot the visualization for yearly average consumption\n",
    "def plot_visualization_year(building_type, selected_columns):\n",
    "    # Check if any columns are selected\n",
    "    if len(selected_columns) == 0:\n",
    "        print(\"Please select at least one column.\")\n",
    "        return\n",
    "    \n",
    "    # Calculate hourly average consumption for the selected year, building type, and columns\n",
    "    hourly_avg_year = calculate_hourly_avg_consumption_year(building_type, selected_columns)\n",
    "    \n",
    "    # Create a grid layout with two subplots: one for the line plot and one for the pie chart\n",
    "    fig, (ax1, ax2) = plt.subplots(2, 1, figsize=(16, 12))\n",
    "    \n",
    "    # Plot the hourly average consumption for each selected column (Line plot)\n",
    "    for column, data in hourly_avg_year.items():\n",
    "        ax1.plot(data.index, data.values, label=column)\n",
    "    ax1.set_title(f'Yearly Average Consumption for {building_type}', fontsize=20, fontweight='bold', pad=20)\n",
    "    ax1.set_xlabel('Hour of the Day', fontsize=12)\n",
    "    ax1.set_ylabel('Average Energy Consumption (kWh)', fontsize=12)\n",
    "    ax1.grid(True)\n",
    "    ax1.legend()\n",
    "    ax1.set_xticks(range(24))\n",
    "    \n",
    "    # Plot the pie chart under the line chart\n",
    "    total_consumption = sum(data.sum() for data in hourly_avg_year.values())\n",
    "    contribution = [data.sum() / total_consumption * 100 for data in hourly_avg_year.values()]\n",
    "    labels = list(hourly_avg_year.keys())\n",
    "    \n",
    "    ax2.pie(contribution, labels=labels, autopct='%1.1f%%', startangle=140, shadow=True)\n",
    "    ax2.axis('equal')  # Equal aspect ratio ensures that pie is drawn as a circle.\n",
    "    ax2.set_title('Contribution of Each Load to Total Consumption', fontsize=20, fontweight='bold', pad=20)\n",
    "    \n",
    "    plt.tight_layout()\n",
    "    plt.subplots_adjust(hspace=0.4)\n",
    "    plt.show()\n"
   ]
  },
  {
   "cell_type": "code",
   "execution_count": 33,
   "metadata": {},
   "outputs": [
    {
     "data": {
      "application/vnd.jupyter.widget-view+json": {
       "model_id": "f127259c4a684a72a29863a737c476a9",
       "version_major": 2,
       "version_minor": 0
      },
      "text/plain": [
       "interactive(children=(Dropdown(description='Building Type:', options=('industrial3', 'residential1', 'resident…"
      ]
     },
     "metadata": {},
     "output_type": "display_data"
    },
    {
     "data": {
      "text/plain": [
       "<function __main__.plot_visualization_year(building_type, selected_columns)>"
      ]
     },
     "execution_count": 33,
     "metadata": {},
     "output_type": "execute_result"
    }
   ],
   "source": [
    "# Define widgets for building type selection and column selection\n",
    "building_type_widget = widgets.Dropdown(options=list(building_columns.keys()), description='Building Type:', \n",
    "                                        style={'description_width': 'initial', 'font-size': '10pt'})\n",
    "\n",
    "# Define a function to update the column selection dropdown options based on the selected building type\n",
    "def update_column_options(change):\n",
    "    column_dropdown.options = building_columns[change['new']]\n",
    "\n",
    "# Attach the update_column_options function to the building_type_widget's observe method\n",
    "building_type_widget.observe(update_column_options, names='value')\n",
    "\n",
    "# Create a column selection dropdown\n",
    "column_dropdown = widgets.SelectMultiple(options=building_columns[building_type_widget.value], \n",
    "                                         description='Columns:', style={'description_width': 'initial', 'font-size': '10pt'})\n",
    "\n",
    "# Create interactive display\n",
    "widgets.interact(plot_visualization_year, building_type=building_type_widget, selected_columns=column_dropdown)"
   ]
  },
  {
   "cell_type": "markdown",
   "metadata": {},
   "source": [
    "![Chart5](./data/chart5.png)"
   ]
  },
  {
   "cell_type": "markdown",
   "metadata": {},
   "source": [
    "## <img src=\"./data/insight.png\" alt=\"Insight Icon\" width=\"30\"/> **Insights:**"
   ]
  },
  {
   "cell_type": "markdown",
   "metadata": {},
   "source": [
    "<div style=\"background-color: rgba(144, 238, 144, 0.5); color: black; padding: 10px; border-radius: 5px;\">    \n",
    "\n",
    "**Indurtial 3:**\n",
    "- Major contributors to consumption are identified as **Machine 3** and **ventilation**, accounting for **20.7%** and **18.9%** of total consumption, respectively.\n",
    "- Consistent energy consumption patterns are observed across different areas, with **Room 2** notably exhibiting the highest consumption among all rooms, particularly during typical working hours from **7 am to 5 pm**.\n",
    "- HVAC systems, particularly **ventilation**, have a substantial impact on energy consumption, with consumption peaks aligning with typical working hours.\n",
    "\n",
    "**Residential 1:**\n",
    "- The **heat pump** dominates consumption, accounting for **89.9%** of total usage, indicating a significant portion of energy is dedicated to heating or cooling systems.\n",
    "- An unusual peak consumption at **4 am** represents **unnecessary overnight energy usage**, potentially indicating suboptimal thermostat settings or insulation issues.\n",
    "\n",
    "**Residential 3:**\n",
    "- The **washing machine** usage throughout the day accounts for **31.1%** of consumption, raising concerns about inefficiencies or excessive water usage.\n",
    "- Peaks in dishwasher usage during lunchtime and evenings coincide with typical daily routines, indicating potential for **schedule-based energy management** strategies.\n",
    "\n",
    "**Residential 4:**\n",
    "- The **heat pump** accounts for **82.9%** of consumption at 10 am, suggesting the need for improved temperature regulation or insulation.\n",
    "- Morning peaks in dishwasher usage offer opportunities for optimization by aligning start times with **off-peak hours** for energy savings.\n",
    "\n",
    "**Residential 6:**\n",
    "- The **circulation pump** accounts for **64.9%** of consumption, indicating potential inefficiencies in the heating or cooling system.\n",
    "- Peak dishwasher usage during morning and evening hours aligns with residents' daily routines, underscoring the need for tailored energy management strategies to **optimize usage**.\n",
    "\n",
    "</div>"
   ]
  },
  {
   "cell_type": "code",
   "execution_count": 44,
   "metadata": {},
   "outputs": [
    {
     "data": {
      "application/vnd.jupyter.widget-view+json": {
       "model_id": "45660b215fc4427da8b6cd2b02f580ad",
       "version_major": 2,
       "version_minor": 0
      },
      "text/plain": [
       "interactive(children=(Dropdown(description='Building Type:', options=('industrial3', 'residential4'), style=De…"
      ]
     },
     "metadata": {},
     "output_type": "display_data"
    },
    {
     "data": {
      "text/plain": [
       "<function __main__.plot_hourly_avg(building_type, month)>"
      ]
     },
     "execution_count": 44,
     "metadata": {},
     "output_type": "execute_result"
    }
   ],
   "source": [
    "import matplotlib.pyplot as plt\n",
    "import calendar\n",
    "from ipywidgets import interact, widgets\n",
    "\n",
    "# Define function to calculate hourly average consumption for a given month and building type\n",
    "def calculate_hourly_avg(building_type, month):\n",
    "    if building_type == 'industrial3':\n",
    "        columns_to_use = {\n",
    "            'DE_KN_industrial3_grid_import': 'blue',\n",
    "            'generation_industrial3': 'orange',\n",
    "            'DE_KN_industrial3_ev': 'purple'\n",
    "        }\n",
    "        building_df = industrial3_df\n",
    "    elif building_type == 'residential4':\n",
    "        columns_to_use = {\n",
    "            'DE_KN_residential4_grid_import': 'blue',\n",
    "            'DE_KN_residential4_pv': 'orange',\n",
    "            'DE_KN_residential4_ev': 'purple'\n",
    "        }\n",
    "        building_df = residential4_df\n",
    "    else:\n",
    "        print(\"Invalid building type selected.\")\n",
    "        return None\n",
    "    \n",
    "    # Filter data for the specified month\n",
    "    month_data = building_df[building_df.index.month == month]\n",
    "    # Calculate hourly average for the selected columns\n",
    "    hourly_avg = month_data.groupby(month_data.index.hour).mean()\n",
    "    return hourly_avg, columns_to_use\n",
    "\n",
    "# Define function to create Matplotlib graph for hourly average consumption\n",
    "def plot_hourly_avg(building_type, month):\n",
    "    # Calculate hourly average consumption for the selected month and building type\n",
    "    hourly_avg, columns_to_use = calculate_hourly_avg(building_type, month)\n",
    "    \n",
    "    if hourly_avg is not None:\n",
    "        # Create plot\n",
    "        plt.figure(figsize=(10, 6))\n",
    "        for column, color in columns_to_use.items():\n",
    "            plt.plot(hourly_avg.index, hourly_avg[column], label=column, color=color)\n",
    "        \n",
    "        # Add title and labels\n",
    "        plt.title(f'Hourly Average Patterns to Observe EV Charging Behaviour for {building_type} - {calendar.month_name[month]}')\n",
    "        plt.xlabel('Hour of the Day')\n",
    "        plt.ylabel('Average Consumption')\n",
    "        plt.legend()\n",
    "        plt.grid(True)\n",
    "        plt.show()\n",
    "\n",
    "# Define widgets for building type selection and column selection\n",
    "building_type_widget1 = widgets.Dropdown(options=['industrial3', 'residential4'], description='Building Type:', \n",
    "                                        style={'description_width': 'initial', 'font-size': '10pt'})\n",
    "# Create interactive display with dropdowns\n",
    "interact(plot_hourly_avg, building_type=building_type_widget1, month=(1, 12, 1))"
   ]
  },
  {
   "cell_type": "markdown",
   "metadata": {},
   "source": [
    "![Chart6](./data/chart6.png)"
   ]
  },
  {
   "cell_type": "markdown",
   "metadata": {},
   "source": [
    "## <img src=\"./data/insight.png\" alt=\"Insight Icon\" width=\"30\"/> **Insights:**"
   ]
  },
  {
   "cell_type": "markdown",
   "metadata": {},
   "source": [
    "<div style=\"background-color: rgba(144, 238, 144, 0.5); color: black; padding: 10px; border-radius: 5px;\">    \n",
    "\n",
    "**Industrial 3:**\n",
    "\n",
    "- **EV Charging Load:** The **EV charging load** in **Industrial 3** exhibits a minimal impact on the grid, with an average hourly consumption of approximately 1 kWh. This low energy demand aligns with the increasing trend of **green charging**, which synchronizes with **solar generation** hours, promoting **sustainability** in energy consumption.\n",
    "\n",
    "- **Seasonal Charging Patterns:** During the **spring season**, **EV charging** predominantly occurs between **7 am and 11 am**. However, data for **winter months** is unavailable. In **summer**, three distinct charging periods are observed: morning hours (**7 am - 11 am**, **12 pm - 2 pm**), and evening hours (**5 pm - 7 pm**). Notably, **October** displays a unique charging pattern, starting from **2 pm to 9 pm**, possibly reflecting a shift in working hours.\n",
    "\n",
    "- **September Anomaly:** **September** showcases a significant deviation from typical charging patterns, with sessions extending throughout the day from **5 am to 8 pm**. This prolonged charging duration, largely disconnected from solar availability, suggests a shift in user behavior or operational requirements.\n",
    "\n",
    "**Residential 4:**\n",
    "\n",
    "- **Seasonal Consumption:** **Residential 4** experiences peak consumption during **November** and **December**, averaging close to **1 kWh** per hour. Despite seasonal variations, the charging curve maintains a consistent pattern across all months, with sessions typically commencing at **7 am** and concluding by **3 pm**.\n",
    "\n",
    "- **Solar Integration:** Charging sessions are strategically aligned with **solar generation** hours, evident from the normal distribution curve observed. This integration optimizes energy utilization, minimizing reliance on the grid and enhancing self-sufficiency.\n",
    "\n",
    "\n",
    "- **Balanced Sustainability:** **Residential 4** demonstrates a more balanced integration of **EV charging** and **solar generation**, showcasing promising prospects for a self-sufficient energy system compared to **Industrial 3**. This balance not only ensures efficient energy utilization but also mitigates the environmental impact, aligning with sustainable energy practices.\n",
    "\n",
    "\n",
    "</div>"
   ]
  },
  {
   "cell_type": "code",
   "execution_count": 45,
   "metadata": {},
   "outputs": [
    {
     "data": {
      "application/vnd.jupyter.widget-view+json": {
       "model_id": "de80eb73bd2949f999dc33e098664ffc",
       "version_major": 2,
       "version_minor": 0
      },
      "text/plain": [
       "interactive(children=(Dropdown(description='Month:', options=(('January', 1), ('February', 2), ('March', 3), (…"
      ]
     },
     "metadata": {},
     "output_type": "display_data"
    },
    {
     "data": {
      "text/plain": [
       "<function __main__.plot_hourly_avg(month)>"
      ]
     },
     "execution_count": 45,
     "metadata": {},
     "output_type": "execute_result"
    }
   ],
   "source": [
    "# Define the columns to be used\n",
    "columns_to_use = ['DE_KN_industrial2_grid_import', 'DE_KN_industrial2_pv', 'storage_change_industrial2']\n",
    "\n",
    "# Define function to calculate hourly average consumption for a given month\n",
    "def calculate_hourly_avg(month):\n",
    "    # Filter data for the specified month\n",
    "    month_data = industrial2_df[industrial2_df.index.month == month]\n",
    "    # Calculate hourly average for the selected columns\n",
    "    hourly_avg = month_data.groupby(month_data.index.hour)[columns_to_use].mean()\n",
    "    return hourly_avg\n",
    "\n",
    "# Define function to create Matplotlib graph for hourly average consumption\n",
    "def plot_hourly_avg(month):\n",
    "    # Calculate hourly average consumption for the selected month\n",
    "    hourly_avg = calculate_hourly_avg(month)\n",
    "    \n",
    "    # Create plot\n",
    "    plt.figure(figsize=(10, 6))\n",
    "    for i, column in enumerate(hourly_avg.columns):\n",
    "        plt.plot(hourly_avg.index, hourly_avg[column], label=columns_to_use[i])\n",
    "\n",
    "    # Add title and labels\n",
    "    plt.title(f'Hourly Average Patterns to Observe Energy Storage Behaviour for Industrial 2 - {calendar.month_name[month]}')\n",
    "    plt.xlabel('Hour of the Day')\n",
    "    plt.ylabel('Average Consumption')\n",
    "    plt.legend()\n",
    "    plt.grid(True)\n",
    "    plt.show()\n",
    "\n",
    "# Create interactive dropdown for selecting month\n",
    "month_dropdown = widgets.Dropdown(options=[(calendar.month_name[i], i) for i in range(1, 13)], description='Month:')\n",
    "\n",
    "# Create interactive display\n",
    "interact(plot_hourly_avg, month=month_dropdown)"
   ]
  },
  {
   "cell_type": "markdown",
   "metadata": {},
   "source": [
    "![Chart7](./data/chart7.png)"
   ]
  },
  {
   "cell_type": "markdown",
   "metadata": {},
   "source": [
    "## <img src=\"./data/insight.png\" alt=\"Insight Icon\" width=\"30\"/> **Insights:**"
   ]
  },
  {
   "cell_type": "markdown",
   "metadata": {},
   "source": [
    "<div style=\"background-color: rgba(144, 238, 144, 0.5); color: black; padding: 10px; border-radius: 5px;\"> \n",
    "   \n",
    "**Data Gap:** \n",
    "- The absence of storage data for **January**, **February**, and **March** limits our comprehensive understanding of energy utilization during these months. \n",
    "- This data gap underscores the importance of continuous monitoring and data collection to facilitate informed decision-making.\n",
    "\n",
    "**Solar Charging and Discharge Patterns:** \n",
    "- The energy storage system predominantly charges during solar-rich hours, typically from **6 am to 12 pm**. Subsequently, it begins discharging energy during peak consumption periods, spanning from **4 pm to 9 pm**. \n",
    "- This strategic timing coincides with high energy demand and potentially higher energy prices during these hours, emphasizing the cost-saving potential of energy storage. - Additionally, by relying solely on solar energy for charging, the storage system contributes to environmental sustainability by reducing reliance on non-renewable energy sources.\n",
    "\n",
    "**Insight:** \n",
    "- Integrating energy storage offers financial benefits to homeowners by **capitalizing on favorable energy pricing and reduces their dependency on the grid during peak hours.**\n",
    "- Furthermore, the system's reliance on solar energy aligns with **sustainable energy practices**, contributing to environmental conservation efforts.\n",
    "\n",
    "**August Peaks:** \n",
    "- Among all months, **August** exhibits the highest charge and discharge peaks. The system reaches its maximum charge at **8 am**, averaging **1.13 kWh per hour**, while the discharge peak occurs at **6 pm**, with an average of **0.8 kWh per hour**. \n",
    "- This highlights the significance of **August** as a month with ample solar energy availability and heightened energy consumption, further emphasizing the utility of energy storage systems during such periods of high demand.\n",
    "</div>"
   ]
  },
  {
   "cell_type": "markdown",
   "metadata": {},
   "source": [
    "# <img src=\"./data/conclusion.png\" alt=\"Conclusion Icon\" width=\"30\"/> **Expected Outcomes and Recommendations**"
   ]
  },
  {
   "attachments": {},
   "cell_type": "markdown",
   "metadata": {},
   "source": [
    "## 1. High Usage Investigation:\n",
    "- **Industrial 3 (Research Institute):** Explore energy efficiency upgrades and conduct an audit.\n",
    "- **Warehouse:** Bridge consumption and solar generation gap, aim for self-sufficiency.\n",
    "- **Residential Buildings:** Promote energy-saving behaviors and implement smart home technologies.\n",
    "\n",
    "## 2. Energy Source Analysis:\n",
    "- **Industrial Buildings:** Leverage solar energy for sustainable management.\n",
    "- **Residential Buildings:** Validate missing data for informed decisions.\n",
    "\n",
    "## 3. Energy Source Analysis for Autoconsumption:\n",
    "- **Industrial Buildings:** Increase autoconsumption through energy storage or scheduling.\n",
    "- **Residential Buildings:** Maximize autoconsumption and promote self-sufficiency.\n",
    "\n",
    "## 4. Exploring Load Characteristics:\n",
    "- **Industrial 3:** Investigate processes and improve efficiency.\n",
    "- **Residential Buildings:** Implement load-shifting strategies for optimization.\n",
    "\n",
    "## 5. EV Charging:\n",
    "- **Industrial 3:** Promote green charging and monitor seasonal patterns.\n",
    "- **Residential 4:** Maintain balanced integration of EV charging and solar generation.\n",
    "\n",
    "## 6. Energy Storage Systems:\n",
    "- **Data Gap:** Address missing storage data for better decision-making.\n",
    "- **Charging and Discharge Patterns:** Optimize timing for cost savings and environmental benefits.\n",
    "- **Solar Peaks:** Utilize storage during high solar availability and consumption.\n",
    "\n",
    "Overall, prioritize efficiency improvements, renewable energy integration, and load management strategies across industrial and residential sectors to enhance sustainability and cost-effectiveness in energy usage.\n"
   ]
  }
 ],
 "metadata": {
  "kernelspec": {
   "display_name": "Python 3 (ipykernel)",
   "language": "python",
   "name": "python3"
  },
  "language_info": {
   "codemirror_mode": {
    "name": "ipython",
    "version": 3
   },
   "file_extension": ".py",
   "mimetype": "text/x-python",
   "name": "python",
   "nbconvert_exporter": "python",
   "pygments_lexer": "ipython3",
   "version": "3.8.12"
  }
 },
 "nbformat": 4,
 "nbformat_minor": 4
}
